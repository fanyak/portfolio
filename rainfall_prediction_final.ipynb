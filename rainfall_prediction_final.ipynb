{
  "metadata": {
    "kernelspec": {
      "language": "python",
      "display_name": "Python 3",
      "name": "python3"
    },
    "language_info": {
      "name": "python",
      "version": "3.10.12",
      "mimetype": "text/x-python",
      "codemirror_mode": {
        "name": "ipython",
        "version": 3
      },
      "pygments_lexer": "ipython3",
      "nbconvert_exporter": "python",
      "file_extension": ".py"
    },
    "kaggle": {
      "accelerator": "none",
      "dataSources": [
        {
          "sourceId": 91714,
          "databundleVersionId": 11251744,
          "sourceType": "competition"
        }
      ],
      "dockerImageVersionId": 30918,
      "isInternetEnabled": true,
      "language": "python",
      "sourceType": "notebook",
      "isGpuEnabled": false
    },
    "colab": {
      "name": "rainfall_prediction_final",
      "provenance": [],
      "include_colab_link": true
    }
  },
  "nbformat_minor": 0,
  "nbformat": 4,
  "cells": [
    {
      "cell_type": "markdown",
      "metadata": {
        "id": "view-in-github",
        "colab_type": "text"
      },
      "source": [
        "<a href=\"https://colab.research.google.com/github/fanyak/portfolio/blob/main/rainfall_prediction_final.ipynb\" target=\"_parent\"><img src=\"https://colab.research.google.com/assets/colab-badge.svg\" alt=\"Open In Colab\"/></a>"
      ]
    },
    {
      "source": [
        "# IMPORTANT: SOME KAGGLE DATA SOURCES ARE PRIVATE\n",
        "# RUN THIS CELL IN ORDER TO IMPORT YOUR KAGGLE DATA SOURCES.\n",
        "import kagglehub\n",
        "kagglehub.login()\n"
      ],
      "metadata": {
        "id": "o7UMMs6oldYK"
      },
      "cell_type": "code",
      "outputs": [],
      "execution_count": null
    },
    {
      "source": [
        "# IMPORTANT: RUN THIS CELL IN ORDER TO IMPORT YOUR KAGGLE DATA SOURCES,\n",
        "# THEN FEEL FREE TO DELETE THIS CELL.\n",
        "# NOTE: THIS NOTEBOOK ENVIRONMENT DIFFERS FROM KAGGLE'S PYTHON\n",
        "# ENVIRONMENT SO THERE MAY BE MISSING LIBRARIES USED BY YOUR\n",
        "# NOTEBOOK.\n",
        "\n",
        "playground_series_s5e3_path = kagglehub.competition_download('playground-series-s5e3')\n",
        "\n",
        "print('Data source import complete.')\n"
      ],
      "metadata": {
        "id": "olNiO_vYldYM"
      },
      "cell_type": "code",
      "outputs": [],
      "execution_count": null
    },
    {
      "cell_type": "code",
      "source": [
        "# This Python 3 environment comes with many helpful analytics libraries installed\n",
        "# It is defined by the kaggle/python Docker image: https://github.com/kaggle/docker-python\n",
        "# For example, here's several helpful packages to load\n",
        "!pip install category_encoders\n",
        "import numpy as np\n",
        "import pandas as pd\n",
        "import matplotlib.pyplot as plt\n",
        "import seaborn as sns\n",
        "import random\n",
        "\n",
        "from sklearn.feature_selection import mutual_info_classif\n",
        "from sklearn.model_selection import KFold, cross_val_score, train_test_split, GridSearchCV\n",
        "from sklearn.cluster import KMeans\n",
        "from sklearn.decomposition import PCA\n",
        "from sklearn.preprocessing import StandardScaler\n",
        "\n",
        "import sklearn.metrics as metrics\n",
        "\n",
        "from category_encoders import MEstimateEncoder\n",
        "\n",
        "# You can write up to 20GB to the current directory (/kaggle/working/) that gets preserved as output when you create a version using \"Save & Run All\"\n",
        "# You can also write temporary files to /kaggle/temp/, but they won't be saved outside of the current session"
      ],
      "metadata": {
        "_uuid": "8f2839f25d086af736a60e9eeb907d3b93b6e0e5",
        "_cell_guid": "b1076dfc-b9ad-4769-8c92-a6c4dae69d19",
        "trusted": true,
        "_kg_hide-output": true,
        "id": "1v9TcuLZldYO"
      },
      "outputs": [],
      "execution_count": null
    },
    {
      "cell_type": "code",
      "source": [
        "# Input data files are available in the read-only \"../input/\" directory\n",
        "# For example, running this (by clicking run or pressing Shift+Enter) will list all files under the input directory\n",
        "\n",
        "import os\n",
        "input_files = {}\n",
        "for dirname, _, filenames in os.walk('/kaggle/input'):\n",
        "    for filename in filenames:\n",
        "        input_files[filename.split(\".\")[0]] = os.path.join(dirname, filename)\n",
        "print(input_files)"
      ],
      "metadata": {
        "trusted": true,
        "execution": {
          "iopub.status.busy": "2025-03-20T08:15:35.876857Z",
          "iopub.execute_input": "2025-03-20T08:15:35.877194Z",
          "iopub.status.idle": "2025-03-20T08:15:35.885196Z",
          "shell.execute_reply.started": "2025-03-20T08:15:35.877158Z",
          "shell.execute_reply": "2025-03-20T08:15:35.884101Z"
        },
        "id": "kiJOKRu_ldYP"
      },
      "outputs": [],
      "execution_count": null
    },
    {
      "cell_type": "code",
      "source": [
        "random.seed(0)"
      ],
      "metadata": {
        "trusted": true,
        "execution": {
          "iopub.status.busy": "2025-03-20T08:15:40.945285Z",
          "iopub.execute_input": "2025-03-20T08:15:40.945722Z",
          "iopub.status.idle": "2025-03-20T08:15:40.949898Z",
          "shell.execute_reply.started": "2025-03-20T08:15:40.945689Z",
          "shell.execute_reply": "2025-03-20T08:15:40.948881Z"
        },
        "id": "Dek_g4QPldYR"
      },
      "outputs": [],
      "execution_count": null
    },
    {
      "cell_type": "code",
      "source": [
        "train_df = pd.read_csv(input_files[\"train\"], index_col=\"id\", header=0)\n",
        "test_df = pd.read_csv(input_files[\"test\"], index_col=\"id\", header=0)"
      ],
      "metadata": {
        "trusted": true,
        "execution": {
          "iopub.status.busy": "2025-03-20T08:15:43.79405Z",
          "iopub.execute_input": "2025-03-20T08:15:43.794414Z",
          "iopub.status.idle": "2025-03-20T08:15:43.834985Z",
          "shell.execute_reply.started": "2025-03-20T08:15:43.794351Z",
          "shell.execute_reply": "2025-03-20T08:15:43.833811Z"
        },
        "id": "nTk235CMldYT"
      },
      "outputs": [],
      "execution_count": null
    },
    {
      "cell_type": "markdown",
      "source": [
        "# EDA"
      ],
      "metadata": {
        "id": "ynitgraqldYU"
      }
    },
    {
      "cell_type": "code",
      "source": [
        "train_df.head()"
      ],
      "metadata": {
        "trusted": true,
        "execution": {
          "iopub.status.busy": "2025-03-20T08:15:47.675131Z",
          "iopub.execute_input": "2025-03-20T08:15:47.675551Z",
          "iopub.status.idle": "2025-03-20T08:15:47.709059Z",
          "shell.execute_reply.started": "2025-03-20T08:15:47.675516Z",
          "shell.execute_reply": "2025-03-20T08:15:47.70791Z"
        },
        "id": "YuvMLcOuldYX"
      },
      "outputs": [],
      "execution_count": null
    },
    {
      "cell_type": "code",
      "source": [
        "test_df.head()"
      ],
      "metadata": {
        "trusted": true,
        "execution": {
          "iopub.status.busy": "2025-03-20T08:16:34.739343Z",
          "iopub.execute_input": "2025-03-20T08:16:34.73987Z",
          "iopub.status.idle": "2025-03-20T08:16:34.858511Z",
          "shell.execute_reply.started": "2025-03-20T08:16:34.739825Z",
          "shell.execute_reply": "2025-03-20T08:16:34.857464Z"
        },
        "id": "XGULFwg4ldYY"
      },
      "outputs": [],
      "execution_count": null
    },
    {
      "cell_type": "code",
      "source": [
        "train_df.info()"
      ],
      "metadata": {
        "trusted": true,
        "execution": {
          "iopub.status.busy": "2025-03-20T08:16:38.169739Z",
          "iopub.execute_input": "2025-03-20T08:16:38.170092Z",
          "iopub.status.idle": "2025-03-20T08:16:38.191164Z",
          "shell.execute_reply.started": "2025-03-20T08:16:38.170062Z",
          "shell.execute_reply": "2025-03-20T08:16:38.189856Z"
        },
        "id": "1fIbW8LbldYZ"
      },
      "outputs": [],
      "execution_count": null
    },
    {
      "cell_type": "code",
      "source": [
        "test_df.info()"
      ],
      "metadata": {
        "trusted": true,
        "execution": {
          "iopub.status.busy": "2025-03-20T08:17:19.765862Z",
          "iopub.execute_input": "2025-03-20T08:17:19.766192Z",
          "iopub.status.idle": "2025-03-20T08:17:19.776926Z",
          "shell.execute_reply.started": "2025-03-20T08:17:19.766166Z",
          "shell.execute_reply": "2025-03-20T08:17:19.775491Z"
        },
        "id": "xkrUb-HqldYa"
      },
      "outputs": [],
      "execution_count": null
    },
    {
      "cell_type": "code",
      "source": [
        "# sanity check the indices\n",
        "print('error in index:',train_df.index.isin(test_df.index).sum())\n",
        "print('missing train set index:',[i for i in range(0,2190) if i not in train_df.index])\n",
        "print('missing test set index:', [i for i in range(2190,2920) if i not in test_df.index])"
      ],
      "metadata": {
        "trusted": true,
        "execution": {
          "iopub.status.busy": "2025-03-20T08:17:24.620811Z",
          "iopub.execute_input": "2025-03-20T08:17:24.621142Z",
          "iopub.status.idle": "2025-03-20T08:17:24.631772Z",
          "shell.execute_reply.started": "2025-03-20T08:17:24.621115Z",
          "shell.execute_reply": "2025-03-20T08:17:24.63077Z"
        },
        "id": "tKE6H3JYldYb"
      },
      "outputs": [],
      "execution_count": null
    },
    {
      "cell_type": "code",
      "source": [
        "# initial check for duplicates\n",
        "print('total duplicates:',pd.concat([train_df, test_df]).duplicated().sum())"
      ],
      "metadata": {
        "trusted": true,
        "execution": {
          "iopub.status.busy": "2025-03-20T08:17:27.707712Z",
          "iopub.execute_input": "2025-03-20T08:17:27.708032Z",
          "iopub.status.idle": "2025-03-20T08:17:27.719194Z",
          "shell.execute_reply.started": "2025-03-20T08:17:27.708007Z",
          "shell.execute_reply": "2025-03-20T08:17:27.718112Z"
        },
        "id": "ggiaynMwldYc"
      },
      "outputs": [],
      "execution_count": null
    },
    {
      "cell_type": "markdown",
      "source": [
        "## Clean Sets"
      ],
      "metadata": {
        "id": "3RRVyanpldYd"
      }
    },
    {
      "cell_type": "code",
      "source": [
        "def clean(df):\n",
        "  df = df.rename(columns={\"temparature\": \"temperature\"})\n",
        "  return df\n",
        "\n",
        "def impute(df):\n",
        "    for name in df.select_dtypes(\"number\"):\n",
        "        df[name] = df[name].fillna(df[name].mean())\n",
        "    for name in df.select_dtypes(\"category\"):\n",
        "        df[name] = df[name].fillna(\"None\")\n",
        "    return df\n",
        "\n",
        "def load_data():\n",
        "  train_df = pd.read_csv(input_files[\"train\"], index_col=\"id\", header=0)\n",
        "  test_df = pd.read_csv(input_files[\"test\"], index_col=\"id\", header=0)\n",
        "  #df = pd.concat([train_df, test_df], axis = 0)\n",
        "  train_df = clean(train_df)\n",
        "  test_df = clean(test_df)\n",
        "  test_df = impute(test_df)\n",
        "  # # check duplicated\n",
        "  # # df[df.duplicated()].sum()\n",
        "  # train_df = remove_outliers(train_df)\n",
        "  # test_df = remove_outliers(test_df)\n",
        "  return train_df, test_df\n",
        "\n",
        "train_df, test_df = load_data()"
      ],
      "metadata": {
        "trusted": true,
        "execution": {
          "iopub.status.busy": "2025-03-20T08:17:30.959142Z",
          "iopub.execute_input": "2025-03-20T08:17:30.959618Z",
          "iopub.status.idle": "2025-03-20T08:17:30.982933Z",
          "shell.execute_reply.started": "2025-03-20T08:17:30.959583Z",
          "shell.execute_reply": "2025-03-20T08:17:30.981917Z"
        },
        "id": "_q3hidFGldYd"
      },
      "outputs": [],
      "execution_count": null
    },
    {
      "cell_type": "code",
      "source": [
        "train_df.info()"
      ],
      "metadata": {
        "trusted": true,
        "execution": {
          "iopub.status.busy": "2025-03-20T08:18:09.217227Z",
          "iopub.execute_input": "2025-03-20T08:18:09.217629Z",
          "iopub.status.idle": "2025-03-20T08:18:09.23014Z",
          "shell.execute_reply.started": "2025-03-20T08:18:09.2176Z",
          "shell.execute_reply": "2025-03-20T08:18:09.228851Z"
        },
        "id": "5Kn-jXHdldYe"
      },
      "outputs": [],
      "execution_count": null
    },
    {
      "cell_type": "code",
      "source": [
        "test_df.info()"
      ],
      "metadata": {
        "trusted": true,
        "execution": {
          "iopub.status.busy": "2025-03-20T08:18:12.605699Z",
          "iopub.execute_input": "2025-03-20T08:18:12.606183Z",
          "iopub.status.idle": "2025-03-20T08:18:12.621005Z",
          "shell.execute_reply.started": "2025-03-20T08:18:12.60614Z",
          "shell.execute_reply": "2025-03-20T08:18:12.619771Z"
        },
        "id": "ZvevZcAOldYe"
      },
      "outputs": [],
      "execution_count": null
    },
    {
      "cell_type": "markdown",
      "source": [
        "## Check balance of target variable\n"
      ],
      "metadata": {
        "id": "FGPnO3i0ldYe"
      }
    },
    {
      "cell_type": "code",
      "source": [
        "train_df.rainfall.value_counts(dropna=False, normalize = True)\n",
        "\n",
        "# the target variable is inbalanced but not extremely so. We will not resample"
      ],
      "metadata": {
        "trusted": true,
        "execution": {
          "iopub.status.busy": "2025-03-20T08:18:21.360568Z",
          "iopub.execute_input": "2025-03-20T08:18:21.360931Z",
          "iopub.status.idle": "2025-03-20T08:18:21.368757Z",
          "shell.execute_reply.started": "2025-03-20T08:18:21.360901Z",
          "shell.execute_reply": "2025-03-20T08:18:21.36778Z"
        },
        "id": "PqkRxs0kldYf"
      },
      "outputs": [],
      "execution_count": null
    },
    {
      "cell_type": "code",
      "source": [
        "train_df.describe(include='all')"
      ],
      "metadata": {
        "trusted": true,
        "execution": {
          "iopub.status.busy": "2025-03-20T08:18:26.500722Z",
          "iopub.execute_input": "2025-03-20T08:18:26.501049Z",
          "iopub.status.idle": "2025-03-20T08:18:26.540979Z",
          "shell.execute_reply.started": "2025-03-20T08:18:26.501024Z",
          "shell.execute_reply": "2025-03-20T08:18:26.539881Z"
        },
        "id": "dri0v0S8ldYf"
      },
      "outputs": [],
      "execution_count": null
    },
    {
      "cell_type": "code",
      "source": [
        "# 4. check which days are represented in the sets\n",
        "print(\"missing train days:\",[i for i in range(1,366) if i not in train_df.day.unique()])\n",
        "print(\"missing test days:\", [i for i in range(1,366) if i not in train_df.day.unique()])"
      ],
      "metadata": {
        "trusted": true,
        "execution": {
          "iopub.status.busy": "2025-03-20T08:18:47.57369Z",
          "iopub.execute_input": "2025-03-20T08:18:47.574017Z",
          "iopub.status.idle": "2025-03-20T08:18:47.627835Z",
          "shell.execute_reply.started": "2025-03-20T08:18:47.573992Z",
          "shell.execute_reply": "2025-03-20T08:18:47.626795Z"
        },
        "id": "-sEHIRb3ldYf"
      },
      "outputs": [],
      "execution_count": null
    },
    {
      "cell_type": "code",
      "source": [
        "plt.figure(figsize=(5,6))\n",
        "# Assigning a single numeric variable shows its univariate distribution with points randomly “jittered” on the\n",
        "ax = sns.stripplot(data=train_df, x='day')\n",
        "plt.show()"
      ],
      "metadata": {
        "trusted": true,
        "execution": {
          "iopub.status.busy": "2025-03-20T08:18:58.205973Z",
          "iopub.execute_input": "2025-03-20T08:18:58.206301Z",
          "iopub.status.idle": "2025-03-20T08:18:58.473275Z",
          "shell.execute_reply.started": "2025-03-20T08:18:58.206276Z",
          "shell.execute_reply": "2025-03-20T08:18:58.472111Z"
        },
        "id": "lSd3ggLvldYg"
      },
      "outputs": [],
      "execution_count": null
    },
    {
      "cell_type": "code",
      "source": [
        "X = train_df.copy()\n",
        "#y = X.pop(\"rainfall\")"
      ],
      "metadata": {
        "trusted": true,
        "execution": {
          "iopub.status.busy": "2025-03-20T08:19:28.573588Z",
          "iopub.execute_input": "2025-03-20T08:19:28.573978Z",
          "iopub.status.idle": "2025-03-20T08:19:28.578726Z",
          "shell.execute_reply.started": "2025-03-20T08:19:28.573947Z",
          "shell.execute_reply": "2025-03-20T08:19:28.577489Z"
        },
        "id": "4uglIkTZldYh"
      },
      "outputs": [],
      "execution_count": null
    },
    {
      "cell_type": "markdown",
      "source": [
        "## Check variable interaction with visualizations\n"
      ],
      "metadata": {
        "id": "j0HshD2XldYh"
      }
    },
    {
      "cell_type": "code",
      "source": [
        "\n",
        "#fig, ax = plt.subplots(8,1, sharey=True)\n",
        "cols = [\"day\",\"cloud\",\"humidity\",\"sunshine\",\"pressure\",\"temperature\",\"windspeed\", \"dewpoint\",\"mintemp\"]\n",
        "for i,col in enumerate(cols):\n",
        "    axs = sns.catplot(x=\"rainfall\", y=col, data = X, kind=\"box\")\n",
        "plt.tight_layout()\n",
        "plt.show()\n",
        "\n",
        "# NOTES:\n",
        "# there are outliers where there is rain with low cloud and rain with high sunshnine\n",
        "# there are 3 variables that have different distribution for each targe class: cloud, humidity, sunshine"
      ],
      "metadata": {
        "trusted": true,
        "execution": {
          "iopub.status.busy": "2025-03-20T08:19:37.470574Z",
          "iopub.execute_input": "2025-03-20T08:19:37.470927Z",
          "iopub.status.idle": "2025-03-20T08:19:39.333413Z",
          "shell.execute_reply.started": "2025-03-20T08:19:37.470901Z",
          "shell.execute_reply": "2025-03-20T08:19:39.332157Z"
        },
        "id": "2Q2Qvs66ldYh"
      },
      "outputs": [],
      "execution_count": null
    },
    {
      "cell_type": "code",
      "source": [
        " # check outlier values\n",
        "train_df_rain = train_df[train_df.rainfall == 1]\n",
        "train_df_rain[(train_df_rain.sunshine > 10) & (train_df_rain.cloud < 60)]"
      ],
      "metadata": {
        "trusted": true,
        "execution": {
          "iopub.status.busy": "2025-03-20T08:20:52.266944Z",
          "iopub.execute_input": "2025-03-20T08:20:52.267439Z",
          "iopub.status.idle": "2025-03-20T08:20:52.298248Z",
          "shell.execute_reply.started": "2025-03-20T08:20:52.267401Z",
          "shell.execute_reply": "2025-03-20T08:20:52.297237Z"
        },
        "id": "qinH8oKJldYi"
      },
      "outputs": [],
      "execution_count": null
    },
    {
      "cell_type": "code",
      "source": [
        "outlier_df = train_df_rain[(train_df_rain.sunshine > 10) & (train_df_rain.cloud < 60)]\n",
        "outlier_months = pd.to_datetime(outlier_df.day, format=\"%j\").dt.month.value_counts()\n",
        "outlier_months.index.rename(\"Outlier Month Count\", inplace=True)\n",
        "outlier_months"
      ],
      "metadata": {
        "trusted": true,
        "execution": {
          "iopub.status.busy": "2025-03-20T08:27:18.157958Z",
          "iopub.execute_input": "2025-03-20T08:27:18.158531Z",
          "iopub.status.idle": "2025-03-20T08:27:18.176533Z",
          "shell.execute_reply.started": "2025-03-20T08:27:18.158484Z",
          "shell.execute_reply": "2025-03-20T08:27:18.175474Z"
        },
        "id": "yjGKTIdhldYi"
      },
      "outputs": [],
      "execution_count": null
    },
    {
      "cell_type": "code",
      "source": [
        "df_month = train_df.copy()\n",
        "df_month['month'] = pd.to_datetime(df_month['day'], format='%j').dt.month\n",
        "fig, ax = plt.subplots(figsize=(12, 4))\n",
        "average_day_rainfall = df_month.groupby([\"month\"])[\"rainfall\"].mean()\n",
        "average_day_rainfall.plot(ax=ax)\n",
        "_ = ax.set(\n",
        "    title=\"mean monthly rainfall\",\n",
        "    xticks=[i  for i in range(1,13)],\n",
        "    #xticklabels=[\"Sun\", \"Mon\", \"Tue\", \"Wed\", \"Thu\", \"Fri\", \"Sat\"],\n",
        "    xlabel=\"month of year\",\n",
        "    ylabel=\"mean of rainfall\",\n",
        ")"
      ],
      "metadata": {
        "trusted": true,
        "execution": {
          "iopub.status.busy": "2025-03-20T08:27:20.623841Z",
          "iopub.execute_input": "2025-03-20T08:27:20.62421Z",
          "iopub.status.idle": "2025-03-20T08:27:20.971454Z",
          "shell.execute_reply.started": "2025-03-20T08:27:20.624176Z",
          "shell.execute_reply": "2025-03-20T08:27:20.970111Z"
        },
        "id": "4exnBiGVldYi"
      },
      "outputs": [],
      "execution_count": null
    },
    {
      "cell_type": "code",
      "source": [
        "df_month.groupby([\"month\"])[\"rainfall\"].sum(), df_month.value_counts(\"month\")"
      ],
      "metadata": {
        "trusted": true,
        "execution": {
          "iopub.status.busy": "2025-03-20T08:27:26.763545Z",
          "iopub.execute_input": "2025-03-20T08:27:26.763888Z",
          "iopub.status.idle": "2025-03-20T08:27:26.773561Z",
          "shell.execute_reply.started": "2025-03-20T08:27:26.763861Z",
          "shell.execute_reply": "2025-03-20T08:27:26.772468Z"
        },
        "id": "NzCsVjdhldYi"
      },
      "outputs": [],
      "execution_count": null
    },
    {
      "cell_type": "code",
      "source": [
        "humidity_q1 = train_df.humidity.quantile(0.25)\n",
        "humidity_q3 = train_df.humidity.quantile(0.75)\n",
        "humidity_mean = train_df.humidity.quantile(0.5)\n",
        "humidity_iqr = humidity_q3 - humidity_q1\n",
        "\n",
        "humidity_lower_bound = humidity_q1 - (1.5 * humidity_iqr)\n",
        "humidity_upper_bound = humidity_q3 + (1.5 * humidity_iqr)\n",
        "print(humidity_q1, humidity_mean, humidity_lower_bound,  humidity_upper_bound)\n",
        "#train_df[(train_df.humidity < humidity_lower_bound) | (train_df.humidity > humidity_upper_bound)].shape"
      ],
      "metadata": {
        "trusted": true,
        "execution": {
          "iopub.status.busy": "2025-03-20T08:27:29.579632Z",
          "iopub.execute_input": "2025-03-20T08:27:29.579967Z",
          "iopub.status.idle": "2025-03-20T08:27:29.591219Z",
          "shell.execute_reply.started": "2025-03-20T08:27:29.579939Z",
          "shell.execute_reply": "2025-03-20T08:27:29.590116Z"
        },
        "id": "bjX4fRYDldYj"
      },
      "outputs": [],
      "execution_count": null
    },
    {
      "cell_type": "code",
      "source": [
        "pressure_q1 = train_df.pressure.quantile(0.25)\n",
        "pressure_q3 = train_df.pressure.quantile(0.74)\n",
        "pressure_iqr = pressure_q3 - pressure_q1\n",
        "pressure_lower_bound = pressure_q1 - (1.5 * pressure_iqr)\n",
        "pressure_upper_bound = pressure_q3 + (1.5 * pressure_iqr)\n",
        "print(pressure_lower_bound, pressure_upper_bound)"
      ],
      "metadata": {
        "trusted": true,
        "execution": {
          "iopub.status.busy": "2025-03-20T08:27:31.871515Z",
          "iopub.execute_input": "2025-03-20T08:27:31.871882Z",
          "iopub.status.idle": "2025-03-20T08:27:31.881454Z",
          "shell.execute_reply.started": "2025-03-20T08:27:31.871856Z",
          "shell.execute_reply": "2025-03-20T08:27:31.880155Z"
        },
        "id": "VZPZn3Y-ldYj"
      },
      "outputs": [],
      "execution_count": null
    },
    {
      "cell_type": "code",
      "source": [
        "# # mark outliers\n",
        "def mark_outliers(X):\n",
        "    df = pd.DataFrame()\n",
        "    outliers = X[(X.sunshine > 10) & (X.cloud < 60)]\n",
        "    df[\"outlier\"] = X.index.isin(outliers.index).astype(int)\n",
        "    # # sanity check\n",
        "    # train_df.loc[~train_df.index.isin(outliers.index), :].outlier.sum()\n",
        "    return df"
      ],
      "metadata": {
        "trusted": true,
        "execution": {
          "iopub.status.busy": "2025-03-20T08:36:58.223871Z",
          "iopub.execute_input": "2025-03-20T08:36:58.224202Z",
          "iopub.status.idle": "2025-03-20T08:36:58.229043Z",
          "shell.execute_reply.started": "2025-03-20T08:36:58.224176Z",
          "shell.execute_reply": "2025-03-20T08:36:58.228029Z"
        },
        "id": "58jK5QX7ldYj"
      },
      "outputs": [],
      "execution_count": null
    },
    {
      "cell_type": "code",
      "source": [
        "X = train_df.copy()\n",
        "y = X.pop(\"rainfall\")"
      ],
      "metadata": {
        "trusted": true,
        "execution": {
          "iopub.status.busy": "2025-03-20T08:28:50.310014Z",
          "iopub.execute_input": "2025-03-20T08:28:50.310333Z",
          "iopub.status.idle": "2025-03-20T08:28:50.315779Z",
          "shell.execute_reply.started": "2025-03-20T08:28:50.310307Z",
          "shell.execute_reply": "2025-03-20T08:28:50.314619Z"
        },
        "id": "rLiijUCJldYk"
      },
      "outputs": [],
      "execution_count": null
    },
    {
      "cell_type": "code",
      "source": [
        "# check correlations\n",
        "X.corrwith(y)\n",
        "# humidity, cloud, sunshine and windspeed have the strongest correlations"
      ],
      "metadata": {
        "trusted": true,
        "execution": {
          "iopub.status.busy": "2025-03-20T08:28:53.545792Z",
          "iopub.execute_input": "2025-03-20T08:28:53.546158Z",
          "iopub.status.idle": "2025-03-20T08:28:53.561612Z",
          "shell.execute_reply.started": "2025-03-20T08:28:53.546128Z",
          "shell.execute_reply": "2025-03-20T08:28:53.560612Z"
        },
        "id": "FZSnOkgbldYl"
      },
      "outputs": [],
      "execution_count": null
    },
    {
      "cell_type": "code",
      "source": [
        "# check pairplots of highest correlations\n",
        "top_features = [\"humidity\", \"cloud\", \"sunshine\", \"windspeed\"]\n",
        "x_top_features = X[top_features].join(y)\n",
        "sns.pairplot(data=x_top_features, hue=\"rainfall\")\n",
        "#_ = ax.set(title=\"Pairplots of highest correlations\")\n",
        "# plt.tight_layout()\n",
        "plt.show()"
      ],
      "metadata": {
        "trusted": true,
        "execution": {
          "iopub.status.busy": "2025-03-20T08:29:13.344993Z",
          "iopub.execute_input": "2025-03-20T08:29:13.345312Z",
          "iopub.status.idle": "2025-03-20T08:29:20.149232Z",
          "shell.execute_reply.started": "2025-03-20T08:29:13.345288Z",
          "shell.execute_reply": "2025-03-20T08:29:20.148065Z"
        },
        "id": "fNUf6jSJldYl"
      },
      "outputs": [],
      "execution_count": null
    },
    {
      "cell_type": "code",
      "source": [
        "sns.lmplot(x=\"temperature\", y=\"pressure\", data=X.join(y), hue=\"rainfall\", col=\"rainfall\")"
      ],
      "metadata": {
        "trusted": true,
        "execution": {
          "iopub.status.busy": "2025-03-20T08:29:26.970466Z",
          "iopub.execute_input": "2025-03-20T08:29:26.970823Z",
          "iopub.status.idle": "2025-03-20T08:29:27.934825Z",
          "shell.execute_reply.started": "2025-03-20T08:29:26.970797Z",
          "shell.execute_reply": "2025-03-20T08:29:27.933686Z"
        },
        "id": "2qX3359IldYm"
      },
      "outputs": [],
      "execution_count": null
    },
    {
      "cell_type": "code",
      "source": [
        "# check all correlations\n",
        "plt.figure(figsize=(10,10))\n",
        "sns.heatmap(train_df.corr().map(round,  ndigits=4), vmin=-1, vmax=1, annot=True)"
      ],
      "metadata": {
        "trusted": true,
        "execution": {
          "iopub.status.busy": "2025-03-20T08:29:31.374109Z",
          "iopub.execute_input": "2025-03-20T08:29:31.374491Z",
          "iopub.status.idle": "2025-03-20T08:29:32.14065Z",
          "shell.execute_reply.started": "2025-03-20T08:29:31.374459Z",
          "shell.execute_reply": "2025-03-20T08:29:32.139613Z"
        },
        "id": "E2I6EUkMldYm"
      },
      "outputs": [],
      "execution_count": null
    },
    {
      "cell_type": "markdown",
      "source": [
        "# Feature Utility Scores"
      ],
      "metadata": {
        "id": "-cZb-Z4mldYm"
      }
    },
    {
      "cell_type": "code",
      "source": [
        "X.dtypes"
      ],
      "metadata": {
        "trusted": true,
        "execution": {
          "iopub.status.busy": "2025-03-19T18:12:30.748938Z",
          "iopub.execute_input": "2025-03-19T18:12:30.749289Z",
          "iopub.status.idle": "2025-03-19T18:12:30.75678Z",
          "shell.execute_reply.started": "2025-03-19T18:12:30.749252Z",
          "shell.execute_reply": "2025-03-19T18:12:30.755854Z"
        },
        "id": "6GpSGdq4ldYm"
      },
      "outputs": [],
      "execution_count": null
    },
    {
      "cell_type": "code",
      "source": [
        "discrete_features = X.select_dtypes(include=['int64'])\n",
        "discrete_features.head()"
      ],
      "metadata": {
        "trusted": true,
        "execution": {
          "iopub.status.busy": "2025-03-20T08:30:17.706746Z",
          "iopub.execute_input": "2025-03-20T08:30:17.707146Z",
          "iopub.status.idle": "2025-03-20T08:30:17.717287Z",
          "shell.execute_reply.started": "2025-03-20T08:30:17.707119Z",
          "shell.execute_reply": "2025-03-20T08:30:17.716124Z"
        },
        "id": "YpXXbCzJldYw"
      },
      "outputs": [],
      "execution_count": null
    },
    {
      "cell_type": "code",
      "source": [
        "def get_mutual_info_scores(X, y, discrete_features):\n",
        "  x_scaled = X.select_dtypes([\"float\"])\n",
        "  #x_scaled = StandardScaler().fit_transform(x_scaled)\n",
        "  x_scaled = (x_scaled - x_scaled.mean(axis = 0)) / x_scaled.std(axis = 0)\n",
        "  df = pd.concat([x_scaled, discrete_features], axis=1)\n",
        "  scores = mutual_info_classif(X, y, discrete_features=X.columns.isin(discrete_features.columns))\n",
        "  return scores\n",
        "\n",
        "def drop_uninformative(df, mi_scores):\n",
        "    return df.loc[:, mi_scores > 0.0]"
      ],
      "metadata": {
        "trusted": true,
        "execution": {
          "iopub.status.busy": "2025-03-20T08:30:20.275578Z",
          "iopub.execute_input": "2025-03-20T08:30:20.275918Z",
          "iopub.status.idle": "2025-03-20T08:30:20.281703Z",
          "shell.execute_reply.started": "2025-03-20T08:30:20.275894Z",
          "shell.execute_reply": "2025-03-20T08:30:20.280509Z"
        },
        "id": "3XIxP_9CldYx"
      },
      "outputs": [],
      "execution_count": null
    },
    {
      "cell_type": "code",
      "source": [
        "mi_scores = get_mutual_info_scores(X,y,discrete_features)\n",
        "mi_scores_df = pd.DataFrame(mi_scores, index=X.columns, columns=['mutual_info_score'])\n",
        "mi_scores_df = mi_scores_df.sort_values(by = 'mutual_info_score', ascending=False)\n",
        "mi_scores_df"
      ],
      "metadata": {
        "trusted": true,
        "execution": {
          "iopub.status.busy": "2025-03-20T08:30:23.67264Z",
          "iopub.execute_input": "2025-03-20T08:30:23.673Z",
          "iopub.status.idle": "2025-03-20T08:30:23.806915Z",
          "shell.execute_reply.started": "2025-03-20T08:30:23.67297Z",
          "shell.execute_reply": "2025-03-20T08:30:23.805983Z"
        },
        "id": "F_9dPK-5ldYx"
      },
      "outputs": [],
      "execution_count": null
    },
    {
      "cell_type": "code",
      "source": [
        "plt.figure(figsize=(8,8))\n",
        "ax = sns.barplot(y = mi_scores_df.index, x = mi_scores_df.mutual_info_score, orient=\"h\")\n",
        "ax.set_title(\"Mutual Info Scores\")\n",
        "plt.show()"
      ],
      "metadata": {
        "trusted": true,
        "execution": {
          "iopub.status.busy": "2025-03-20T08:30:36.925634Z",
          "iopub.execute_input": "2025-03-20T08:30:36.92598Z",
          "iopub.status.idle": "2025-03-20T08:30:37.314599Z",
          "shell.execute_reply.started": "2025-03-20T08:30:36.925954Z",
          "shell.execute_reply": "2025-03-20T08:30:37.313509Z"
        },
        "id": "8mt_HWU2ldYy"
      },
      "outputs": [],
      "execution_count": null
    },
    {
      "cell_type": "code",
      "source": [
        "def cluster_labels(df, n_clusters = 5):\n",
        "  X = df.copy()\n",
        "  kmeans = KMeans(n_clusters=n_clusters, n_init=50)\n",
        "  x_scaled = X #X.select_dtypes(include=['float'])\n",
        "  x_scaled = (x_scaled - x_scaled.mean(axis = 0)) / x_scaled.std(axis = 0) # StandardScaler().fit_trasnform(x_scaled)\n",
        "  X_new = pd.DataFrame()\n",
        "  X_new.loc[:, \"cluster\"] = kmeans.fit_predict(x_scaled)\n",
        "  X_new[\"cluster\"] = X_new[\"cluster\"].astype(\"category\")\n",
        "  #############\n",
        "  # add also the distances from the cluester as a new column\n",
        "  X_cd = kmeans.fit_transform(x_scaled)\n",
        "  # Label features and join to dataset\n",
        "  X_cd = pd.DataFrame(X_cd, columns=[f\"Centroid_{i}\" for i in range(X_cd.shape[1])], index = df.index)\n",
        "  ###########\n",
        "  return X_new, X_cd, kmeans.inertia_"
      ],
      "metadata": {
        "trusted": true,
        "execution": {
          "iopub.status.busy": "2025-03-20T08:30:46.241892Z",
          "iopub.execute_input": "2025-03-20T08:30:46.242273Z",
          "iopub.status.idle": "2025-03-20T08:30:46.248827Z",
          "shell.execute_reply.started": "2025-03-20T08:30:46.242238Z",
          "shell.execute_reply": "2025-03-20T08:30:46.247476Z"
        },
        "id": "tB6OtUZlldYy"
      },
      "outputs": [],
      "execution_count": null
    },
    {
      "cell_type": "code",
      "source": [
        "inertia = []\n",
        "for i in range(2,11):\n",
        "  X = train_df.copy()\n",
        "  X.drop(columns=[\"day\"], inplace=True)\n",
        "  y = X.pop('rainfall')\n",
        "  X_new, X_cd, inertia_ = cluster_labels(X, i)\n",
        "  inertia.append(inertia_)\n",
        "plt.plot(range(2,11), inertia)\n",
        "plt.show()"
      ],
      "metadata": {
        "trusted": true,
        "execution": {
          "iopub.status.busy": "2025-03-20T08:30:48.758459Z",
          "iopub.execute_input": "2025-03-20T08:30:48.758839Z",
          "iopub.status.idle": "2025-03-20T08:30:54.846019Z",
          "shell.execute_reply.started": "2025-03-20T08:30:48.758809Z",
          "shell.execute_reply": "2025-03-20T08:30:54.845019Z"
        },
        "id": "cUyg2YqxldYz"
      },
      "outputs": [],
      "execution_count": null
    },
    {
      "cell_type": "code",
      "source": [
        "sil_score = []\n",
        "for i in range(2,11):\n",
        "  X = train_df.copy()\n",
        "  X.drop(columns=[\"day\"], inplace=True)\n",
        "  y = X.pop('rainfall')\n",
        "  X_new, X_cd, inertia_ = cluster_labels(X, i)\n",
        "  sil_score.append(metrics.silhouette_score(X, X_new.cluster.values))\n",
        "plt.plot(range(2,11), sil_score)\n",
        "plt.show()"
      ],
      "metadata": {
        "trusted": true,
        "execution": {
          "iopub.status.busy": "2025-03-20T08:30:59.608931Z",
          "iopub.execute_input": "2025-03-20T08:30:59.609286Z",
          "iopub.status.idle": "2025-03-20T08:31:10.107969Z",
          "shell.execute_reply.started": "2025-03-20T08:30:59.609257Z",
          "shell.execute_reply": "2025-03-20T08:31:10.106739Z"
        },
        "id": "__vakwYIldYz"
      },
      "outputs": [],
      "execution_count": null
    },
    {
      "cell_type": "code",
      "source": [
        "X = train_df.copy()\n",
        "X.drop(columns=[\"day\"], inplace=True)\n",
        "y = X.pop('rainfall')\n",
        "X_new, X_cd, inertia = cluster_labels(X, 5)\n",
        "X = X.join([X_new, X_cd])"
      ],
      "metadata": {
        "trusted": true,
        "execution": {
          "iopub.status.busy": "2025-03-20T08:31:10.109544Z",
          "iopub.execute_input": "2025-03-20T08:31:10.109895Z",
          "iopub.status.idle": "2025-03-20T08:31:12.425948Z",
          "shell.execute_reply.started": "2025-03-20T08:31:10.109859Z",
          "shell.execute_reply": "2025-03-20T08:31:12.424888Z"
        },
        "id": "HAczzItRldYz"
      },
      "outputs": [],
      "execution_count": null
    },
    {
      "cell_type": "code",
      "source": [
        "sns.catplot(data=pd.concat([X,y], axis=1), x=\"cluster\", y=\"rainfall\", hue=\"cluster\", kind=\"bar\")"
      ],
      "metadata": {
        "trusted": true,
        "execution": {
          "iopub.status.busy": "2025-03-20T08:31:12.427316Z",
          "iopub.execute_input": "2025-03-20T08:31:12.427676Z",
          "iopub.status.idle": "2025-03-20T08:31:12.859491Z",
          "shell.execute_reply.started": "2025-03-20T08:31:12.427645Z",
          "shell.execute_reply": "2025-03-20T08:31:12.858425Z"
        },
        "id": "ihb0p0wxldY0"
      },
      "outputs": [],
      "execution_count": null
    },
    {
      "cell_type": "markdown",
      "source": [
        "# Target Encode from Day /  Month"
      ],
      "metadata": {
        "id": "eU4FAjQOldY0"
      }
    },
    {
      "cell_type": "code",
      "source": [
        "class CrossFoldEncoder:\n",
        "    def __init__(self, encoder, **kwargs):\n",
        "        self.encoder_ = encoder\n",
        "        self.kwargs_ = kwargs  # keyword arguments for the encoder\n",
        "        self.cv_ = KFold(n_splits=5)\n",
        "\n",
        "    # Fit an encoder on one split and transform the feature on the\n",
        "    # other. Iterating over the splits in all folds gives a complete\n",
        "    # transformation. We also now have one trained encoder on each\n",
        "    # fold.\n",
        "    def fit_transform(self, X, y, cols):\n",
        "        self.fitted_encoders_ = []\n",
        "        self.cols_ = cols\n",
        "        X_encoded = []\n",
        "        for idx_encode, idx_train in self.cv_.split(X):\n",
        "            fitted_encoder = self.encoder_(cols=cols, **self.kwargs_)\n",
        "            #fit on 1 fold\n",
        "            fitted_encoder.fit(\n",
        "                X.iloc[idx_encode, :], y.iloc[idx_encode],\n",
        "            )\n",
        "            #transform the other fold\n",
        "            X_encoded.append(fitted_encoder.transform(X.iloc[idx_train, :])[cols])\n",
        "            self.fitted_encoders_.append(fitted_encoder)\n",
        "        X_encoded = pd.concat(X_encoded)\n",
        "        X_encoded.columns = [name + \"_encoded\" for name in X_encoded.columns]\n",
        "        return X_encoded\n",
        "\n",
        "    # To transform the test data, average the encodings learned from\n",
        "    # each fold.\n",
        "    def transform(self, X):\n",
        "        from functools import reduce\n",
        "\n",
        "        X_encoded_list = []\n",
        "        for fitted_encoder in self.fitted_encoders_:\n",
        "            X_encoded = fitted_encoder.transform(X)\n",
        "            X_encoded_list.append(X_encoded[self.cols_])\n",
        "        X_encoded = reduce(\n",
        "            lambda x, y: x.add(y, fill_value=0), X_encoded_list\n",
        "        ) / len(X_encoded_list)\n",
        "        X_encoded.columns = [name + \"_encoded\" for name in X_encoded.columns]\n",
        "        return X_encoded"
      ],
      "metadata": {
        "trusted": true,
        "execution": {
          "iopub.status.busy": "2025-03-20T08:31:38.090288Z",
          "iopub.execute_input": "2025-03-20T08:31:38.090722Z",
          "iopub.status.idle": "2025-03-20T08:31:38.099512Z",
          "shell.execute_reply.started": "2025-03-20T08:31:38.09069Z",
          "shell.execute_reply": "2025-03-20T08:31:38.098389Z"
        },
        "id": "TYjKscFrldY0"
      },
      "outputs": [],
      "execution_count": null
    },
    {
      "cell_type": "code",
      "source": [
        "def target_encode(df,col,target):\n",
        "  X = df.copy()\n",
        "  #X['month'] = pd.to_datetime(X['day'], format='%j').dt.month\n",
        "  y = X.pop(target)\n",
        "  encoder = CrossFoldEncoder(MEstimateEncoder, m=1)\n",
        "  X_encoded = encoder.fit_transform(X, y, cols=[col])\n",
        "  return X_encoded"
      ],
      "metadata": {
        "trusted": true,
        "execution": {
          "iopub.status.busy": "2025-03-20T08:31:41.220715Z",
          "iopub.execute_input": "2025-03-20T08:31:41.221057Z",
          "iopub.status.idle": "2025-03-20T08:31:41.226087Z",
          "shell.execute_reply.started": "2025-03-20T08:31:41.221024Z",
          "shell.execute_reply": "2025-03-20T08:31:41.224899Z"
        },
        "id": "-VvUgg1FldY1"
      },
      "outputs": [],
      "execution_count": null
    },
    {
      "cell_type": "code",
      "source": [
        "def day_to_Month(df):\n",
        "  dt = pd.DataFrame()\n",
        "  dt['month'] = pd.to_datetime(df['day'], format='%j').dt.month\n",
        "  return dt"
      ],
      "metadata": {
        "trusted": true,
        "execution": {
          "iopub.status.busy": "2025-03-20T08:31:44.932656Z",
          "iopub.execute_input": "2025-03-20T08:31:44.933014Z",
          "iopub.status.idle": "2025-03-20T08:31:44.937996Z",
          "shell.execute_reply.started": "2025-03-20T08:31:44.932976Z",
          "shell.execute_reply": "2025-03-20T08:31:44.936915Z"
        },
        "id": "1LEmWBnVldY1"
      },
      "outputs": [],
      "execution_count": null
    },
    {
      "cell_type": "markdown",
      "source": [
        "# Helper Functions"
      ],
      "metadata": {
        "id": "FT104uDnldY2"
      }
    },
    {
      "cell_type": "code",
      "source": [
        "def make_results(model_name:str, model_object, metric:str):\n",
        "    '''\n",
        "    Arguments:\n",
        "        model_name (string): what you want the model to be called in the output table\n",
        "        model_object: a fit GridSearchCV object\n",
        "        metric (string): precision, recall, f1, accuracy, or auc\n",
        "\n",
        "    Returns a pandas df with the F1, recall, precision, accuracy, and auc scores\n",
        "    for the model with the best mean 'metric' score across all validation folds.\n",
        "    '''\n",
        "\n",
        "    # Create dictionary that maps input metric to actual metric name in GridSearchCV\n",
        "    metric_dict = {'auc': 'mean_test_roc_auc',\n",
        "                   'precision': 'mean_test_precision',\n",
        "                   'recall': 'mean_test_recall',\n",
        "                   'f1': 'mean_test_f1',\n",
        "                   'accuracy': 'mean_test_accuracy'\n",
        "                  }\n",
        "\n",
        "    # Get all the results from the CV and put them in a df\n",
        "    cv_results = pd.DataFrame(model_object.cv_results_)\n",
        "\n",
        "    # Isolate the row of the df with the max(metric) score\n",
        "    best_estimator_results = cv_results.iloc[cv_results[metric_dict[metric]].idxmax(), :]\n",
        "\n",
        "    # Extract Accuracy, precision, recall, and f1 score from that row\n",
        "    auc = best_estimator_results.mean_test_roc_auc\n",
        "    f1 = best_estimator_results.mean_test_f1\n",
        "    recall = best_estimator_results.mean_test_recall\n",
        "    precision = best_estimator_results.mean_test_precision\n",
        "    accuracy = best_estimator_results.mean_test_accuracy\n",
        "\n",
        "    # Create table of results\n",
        "    table = pd.DataFrame()\n",
        "    table = pd.DataFrame({'model': [model_name],\n",
        "                          'precision': [precision],\n",
        "                          'recall': [recall],\n",
        "                          'F1': [f1],\n",
        "                          'accuracy': [accuracy],\n",
        "                          'auc': [auc]\n",
        "                        })\n",
        "\n",
        "    return table"
      ],
      "metadata": {
        "trusted": true,
        "execution": {
          "iopub.status.busy": "2025-03-20T08:31:47.248393Z",
          "iopub.execute_input": "2025-03-20T08:31:47.248764Z",
          "iopub.status.idle": "2025-03-20T08:31:47.255807Z",
          "shell.execute_reply.started": "2025-03-20T08:31:47.248736Z",
          "shell.execute_reply": "2025-03-20T08:31:47.254511Z"
        },
        "id": "Q_S2R8xuldY2"
      },
      "outputs": [],
      "execution_count": null
    },
    {
      "cell_type": "code",
      "source": [
        "def get_scores(model_name:str, model, X_test_data, y_test_data):\n",
        "    '''\n",
        "    Generate a table of test scores.\n",
        "\n",
        "    In:\n",
        "        model_name (string):  How you want your model to be named in the output table\n",
        "        model:                A fit GridSearchCV object\n",
        "        X_test_data:          numpy array of X_test data\n",
        "        y_test_data:          numpy array of y_test data\n",
        "\n",
        "    Out: pandas df of precision, recall, f1, accuracy, and AUC scores for your model\n",
        "    '''\n",
        "\n",
        "    preds = model.best_estimator_.predict(X_test_data)\n",
        "    preds_proba = model.best_estimator_.predict_proba(X_test_data)[:,1]\n",
        "\n",
        "    auc = metrics.roc_auc_score(y_test_data, preds_proba) #use preds_proba for roc_auc_score\n",
        "\n",
        "    accuracy = metrics.accuracy_score(y_test_data, preds)\n",
        "    precision = metrics.precision_score(y_test_data, preds)\n",
        "    recall = metrics.recall_score(y_test_data, preds)\n",
        "    f1 = metrics.f1_score(y_test_data, preds)\n",
        "\n",
        "    table = pd.DataFrame({'model': [model_name],\n",
        "                          'precision': [precision],\n",
        "                          'recall': [recall],\n",
        "                          'f1': [f1],\n",
        "                          'accuracy': [accuracy],\n",
        "                          'AUC': [auc]\n",
        "                         })\n",
        "\n",
        "    return table"
      ],
      "metadata": {
        "trusted": true,
        "execution": {
          "iopub.status.busy": "2025-03-20T10:26:11.628083Z",
          "iopub.execute_input": "2025-03-20T10:26:11.628511Z",
          "iopub.status.idle": "2025-03-20T10:26:11.634651Z",
          "shell.execute_reply.started": "2025-03-20T10:26:11.628474Z",
          "shell.execute_reply": "2025-03-20T10:26:11.633481Z"
        },
        "id": "ZzH9LNuIldY3"
      },
      "outputs": [],
      "execution_count": null
    },
    {
      "cell_type": "markdown",
      "source": [
        "# Prepare DataSets for Analysis and Testing"
      ],
      "metadata": {
        "id": "Gt3N-ZNTldY4"
      }
    },
    {
      "cell_type": "code",
      "source": [
        "def mathematical_transforms(X):\n",
        "    df = pd.DataFrame()\n",
        "    return df"
      ],
      "metadata": {
        "trusted": true,
        "execution": {
          "iopub.status.busy": "2025-03-20T08:34:04.648604Z",
          "iopub.execute_input": "2025-03-20T08:34:04.649024Z",
          "iopub.status.idle": "2025-03-20T08:34:04.65361Z",
          "shell.execute_reply.started": "2025-03-20T08:34:04.648981Z",
          "shell.execute_reply": "2025-03-20T08:34:04.652458Z"
        },
        "id": "Oul8HE13ldY4"
      },
      "outputs": [],
      "execution_count": null
    },
    {
      "cell_type": "code",
      "source": [
        "def interactions(X):\n",
        "    df = pd.DataFrame()\n",
        "    df[\"dewpoint_temperature\"] = (X.dewpoint + X.temperature) * X.humidity\n",
        "    return df"
      ],
      "metadata": {
        "trusted": true,
        "execution": {
          "iopub.status.busy": "2025-03-20T08:50:31.656978Z",
          "iopub.execute_input": "2025-03-20T08:50:31.657315Z",
          "iopub.status.idle": "2025-03-20T08:50:31.662135Z",
          "shell.execute_reply.started": "2025-03-20T08:50:31.657287Z",
          "shell.execute_reply": "2025-03-20T08:50:31.660949Z"
        },
        "id": "MInPrUBBldY4"
      },
      "outputs": [],
      "execution_count": null
    },
    {
      "cell_type": "code",
      "source": [
        "def create_features(df, df_test = None):\n",
        "    X = df.copy()\n",
        "    y = X.pop(\"rainfall\")\n",
        "    discrete_features = X.select_dtypes(include=[\"int64\"])\n",
        "    mi_scores = get_mutual_info_scores(X, y, discrete_features)\n",
        "\n",
        "    # Combine splits if test data is given\n",
        "    #\n",
        "    # If we're creating features for test set predictions, we should\n",
        "    # use all the data we have available. After creating our features,\n",
        "    # we'll recreate the splits.\n",
        "    if df_test is not None:\n",
        "        X_test = df_test.copy()\n",
        "        #X_test.pop(\"rainfall\") # there is no response variable in the test set\n",
        "        X = pd.concat([X, X_test])\n",
        "\n",
        "    # Mutual Information\n",
        "    X = drop_uninformative(X, mi_scores)\n",
        "    X = X.drop(columns=[\"mintemp\", \"maxtemp\", \"winddirection\"], errors=\"ignore\")\n",
        "\n",
        "    # Transformations\n",
        "    # X = X.join(mathematical_transforms(X))\n",
        "    X = X.join(interactions(X))\n",
        "    # X = X.join(counts(X))\n",
        "    # # X = X.join(break_down(X))\n",
        "    # X = X.join(group_transforms(X))\n",
        "    #X = X.join(day_to_Month(X))\n",
        "    X = X.join(mark_outliers(X))\n",
        "\n",
        "    #  Clustering\n",
        "    clusters_labels, cluster_distances, inertia =  cluster_labels(X, n_clusters = 5)\n",
        "    #X = X.join(clusters_labels)\n",
        "    X = X.join(cluster_distances)\n",
        "\n",
        "    # Lesson 5 - PCA\n",
        "    # X = X.join(pca_inspired(X))\n",
        "    # X = X.join(pca_components(X, pca_features)) #add the loadings as columns\n",
        "    # X = X.join(indicate_outliers(X))\n",
        "\n",
        "    #X = label_encode(X)\n",
        "\n",
        "    # Reform splits\n",
        "    if df_test is not None:\n",
        "        X_test = X.loc[df_test.index, :]\n",
        "        X.drop(df_test.index, inplace=True)\n",
        "\n",
        "    # Lesson 6 - Target Encoder\n",
        "    encoder = CrossFoldEncoder(MEstimateEncoder, m=1)\n",
        "    X = X.join(encoder.fit_transform(X, y, cols=[\"day\"]))\n",
        "    X.drop(columns=[\"day\", \"month\"], inplace=True, errors=\"ignore\")\n",
        "\n",
        "    if df_test is not None:\n",
        "        X_test = X_test.join(encoder.transform(X_test))\n",
        "        X_test.drop(columns=[\"day\", \"month\"], inplace=True, errors = \"ignore\")\n",
        "\n",
        "    if df_test is not None:\n",
        "        return X, X_test\n",
        "    else:\n",
        "        return X\n"
      ],
      "metadata": {
        "trusted": true,
        "execution": {
          "iopub.status.busy": "2025-03-20T11:02:26.13895Z",
          "iopub.execute_input": "2025-03-20T11:02:26.139375Z",
          "iopub.status.idle": "2025-03-20T11:02:26.148298Z",
          "shell.execute_reply.started": "2025-03-20T11:02:26.139323Z",
          "shell.execute_reply": "2025-03-20T11:02:26.147129Z"
        },
        "id": "2DIewQ5uldY5"
      },
      "outputs": [],
      "execution_count": null
    },
    {
      "cell_type": "code",
      "source": [
        "df_train, df_test = load_data()\n",
        "X_train = create_features(df_train)\n",
        "y_train = df_train.loc[:, \"rainfall\"]"
      ],
      "metadata": {
        "trusted": true,
        "execution": {
          "iopub.status.busy": "2025-03-20T10:12:57.854565Z",
          "iopub.execute_input": "2025-03-20T10:12:57.854947Z",
          "iopub.status.idle": "2025-03-20T10:12:58.705273Z",
          "shell.execute_reply.started": "2025-03-20T10:12:57.854913Z",
          "shell.execute_reply": "2025-03-20T10:12:58.70412Z"
        },
        "id": "Z4qiCrSaldY5"
      },
      "outputs": [],
      "execution_count": null
    },
    {
      "cell_type": "code",
      "source": [
        "X_train.head()"
      ],
      "metadata": {
        "trusted": true,
        "execution": {
          "iopub.status.busy": "2025-03-20T08:50:40.906262Z",
          "iopub.execute_input": "2025-03-20T08:50:40.906679Z",
          "iopub.status.idle": "2025-03-20T08:50:40.927187Z",
          "shell.execute_reply.started": "2025-03-20T08:50:40.906647Z",
          "shell.execute_reply": "2025-03-20T08:50:40.926108Z"
        },
        "id": "7noewhsqldY6"
      },
      "outputs": [],
      "execution_count": null
    },
    {
      "cell_type": "code",
      "source": [
        "tr_x, vl_x, tr_y, vl_y = train_test_split(X_train, y_train, test_size=0.25, random_state=0, stratify = y_train)"
      ],
      "metadata": {
        "trusted": true,
        "execution": {
          "iopub.status.busy": "2025-03-20T10:14:52.136403Z",
          "iopub.execute_input": "2025-03-20T10:14:52.136797Z",
          "iopub.status.idle": "2025-03-20T10:14:52.145874Z",
          "shell.execute_reply.started": "2025-03-20T10:14:52.136766Z",
          "shell.execute_reply": "2025-03-20T10:14:52.144669Z"
        },
        "id": "RVPYk8Q0ldY6"
      },
      "outputs": [],
      "execution_count": null
    },
    {
      "cell_type": "markdown",
      "source": [
        "# Logistic Regression"
      ],
      "metadata": {
        "id": "RQ5GZJCildY6"
      }
    },
    {
      "cell_type": "code",
      "source": [
        "sns.regplot(x=\"humidity\", y=\"rainfall\", data = train_df, logistic = True, ci=None)"
      ],
      "metadata": {
        "trusted": true,
        "execution": {
          "iopub.status.busy": "2025-03-20T08:50:49.30722Z",
          "iopub.execute_input": "2025-03-20T08:50:49.307802Z",
          "iopub.status.idle": "2025-03-20T08:50:49.553603Z",
          "shell.execute_reply.started": "2025-03-20T08:50:49.307761Z",
          "shell.execute_reply": "2025-03-20T08:50:49.552519Z"
        },
        "id": "uRx4Jd2cldY6"
      },
      "outputs": [],
      "execution_count": null
    },
    {
      "cell_type": "code",
      "source": [
        "sns.regplot(x=\"cloud\", y=\"rainfall\", data = train_df, logistic = True, ci=None)"
      ],
      "metadata": {
        "trusted": true,
        "execution": {
          "iopub.status.busy": "2025-03-20T08:50:52.964062Z",
          "iopub.execute_input": "2025-03-20T08:50:52.964497Z",
          "iopub.status.idle": "2025-03-20T08:50:53.181434Z",
          "shell.execute_reply.started": "2025-03-20T08:50:52.964456Z",
          "shell.execute_reply": "2025-03-20T08:50:53.18033Z"
        },
        "id": "qaMpuAtaldY7"
      },
      "outputs": [],
      "execution_count": null
    },
    {
      "cell_type": "code",
      "source": [
        "sns.regplot(x=\"sunshine\", y=\"rainfall\", data = train_df, logistic = True, ci=None)"
      ],
      "metadata": {
        "trusted": true,
        "execution": {
          "iopub.status.busy": "2025-03-20T08:50:56.041309Z",
          "iopub.execute_input": "2025-03-20T08:50:56.041727Z",
          "iopub.status.idle": "2025-03-20T08:50:56.270198Z",
          "shell.execute_reply.started": "2025-03-20T08:50:56.04169Z",
          "shell.execute_reply": "2025-03-20T08:50:56.268986Z"
        },
        "id": "ALmie_-oldY7"
      },
      "outputs": [],
      "execution_count": null
    },
    {
      "cell_type": "code",
      "source": [
        "#sns.regplot(x=\"dewpoint_temperature\", y=\"rainfall\", data = X_train.join(y_train), logistic=True, ci=False)"
      ],
      "metadata": {
        "trusted": true,
        "execution": {
          "iopub.status.busy": "2025-03-20T08:50:59.892641Z",
          "iopub.execute_input": "2025-03-20T08:50:59.892967Z",
          "iopub.status.idle": "2025-03-20T08:51:04.601738Z",
          "shell.execute_reply.started": "2025-03-20T08:50:59.89294Z",
          "shell.execute_reply": "2025-03-20T08:51:04.600501Z"
        },
        "id": "Igu5Zm9ildY7"
      },
      "outputs": [],
      "execution_count": null
    },
    {
      "cell_type": "markdown",
      "source": [
        "## Check Regression Assumptions"
      ],
      "metadata": {
        "id": "CaEA1grfldY8"
      }
    },
    {
      "cell_type": "code",
      "source": [
        "from statsmodels.stats.outliers_influence import variance_inflation_factor\n",
        "from statsmodels.tools.tools import add_constant\n",
        "import statsmodels.api as sm\n",
        "from patsy import dmatrices"
      ],
      "metadata": {
        "trusted": true,
        "execution": {
          "iopub.status.busy": "2025-03-20T08:41:00.326928Z",
          "iopub.execute_input": "2025-03-20T08:41:00.32729Z",
          "iopub.status.idle": "2025-03-20T08:41:01.631817Z",
          "shell.execute_reply.started": "2025-03-20T08:41:00.327262Z",
          "shell.execute_reply": "2025-03-20T08:41:01.630772Z"
        },
        "id": "x3ie9YfPldY8"
      },
      "outputs": [],
      "execution_count": null
    },
    {
      "cell_type": "markdown",
      "source": [
        "### Check Multicolinearity\n"
      ],
      "metadata": {
        "id": "ISyhCdMdldY8"
      }
    },
    {
      "cell_type": "code",
      "source": [
        "# Define the predictor variables\n",
        "test1 = X_train.copy()[[\"cloud\", \"humidity\", \"sunshine\", \"day_encoded\", \"dewpoint_temperature\"]]\n",
        "# Add a constant to the model (intercept)\n",
        "test1 = add_constant(test1)\n",
        "\n",
        "# Calculate VIF for each feature\n",
        "datacamp_vif_data = pd.DataFrame()\n",
        "datacamp_vif_data['Feature'] = test1.columns\n",
        "datacamp_vif_data['VIF'] = [variance_inflation_factor(test1.values, i) for i in range(test1.shape[1])]\n",
        "print(datacamp_vif_data)"
      ],
      "metadata": {
        "trusted": true,
        "execution": {
          "iopub.status.busy": "2025-03-20T10:05:56.55681Z",
          "iopub.execute_input": "2025-03-20T10:05:56.557138Z",
          "iopub.status.idle": "2025-03-20T10:05:56.577345Z",
          "shell.execute_reply.started": "2025-03-20T10:05:56.557103Z",
          "shell.execute_reply": "2025-03-20T10:05:56.576111Z"
        },
        "id": "HLBRuc2vldY9"
      },
      "outputs": [],
      "execution_count": null
    },
    {
      "cell_type": "code",
      "source": [
        "y1,X1 = dmatrices('rainfall ~ cloud + humidity + sunshine + day_encoded + dewpoint_temperature', data = tr_x.join(tr_y), return_type = 'dataframe')\n",
        "mod = sm.Logit(y1,X1)\n",
        "res = mod.fit()\n",
        "print(res.summary())"
      ],
      "metadata": {
        "trusted": true,
        "execution": {
          "iopub.status.busy": "2025-03-20T08:51:19.871542Z",
          "iopub.execute_input": "2025-03-20T08:51:19.871944Z",
          "iopub.status.idle": "2025-03-20T08:51:19.916048Z",
          "shell.execute_reply.started": "2025-03-20T08:51:19.87191Z",
          "shell.execute_reply": "2025-03-20T08:51:19.914818Z"
        },
        "id": "mKF-WJqgldY9"
      },
      "outputs": [],
      "execution_count": null
    },
    {
      "cell_type": "code",
      "source": [
        "y2,X2 = dmatrices('rainfall ~ cloud + sunshine + day_encoded + humidity', data = tr_x.join(tr_y), return_type = 'dataframe')\n",
        "mod2 = sm.Logit(y2,X2)\n",
        "res2 = mod2.fit()\n",
        "print(res2.summary())"
      ],
      "metadata": {
        "trusted": true,
        "execution": {
          "iopub.status.busy": "2025-03-20T10:05:18.496435Z",
          "iopub.execute_input": "2025-03-20T10:05:18.496839Z",
          "iopub.status.idle": "2025-03-20T10:05:18.540783Z",
          "shell.execute_reply.started": "2025-03-20T10:05:18.49681Z",
          "shell.execute_reply": "2025-03-20T10:05:18.539741Z"
        },
        "id": "8cl4g2t9ldY-"
      },
      "outputs": [],
      "execution_count": null
    },
    {
      "cell_type": "code",
      "source": [
        "res2.params"
      ],
      "metadata": {
        "trusted": true,
        "execution": {
          "iopub.status.busy": "2025-03-20T08:52:23.989759Z",
          "iopub.execute_input": "2025-03-20T08:52:23.990109Z",
          "iopub.status.idle": "2025-03-20T08:52:23.997577Z",
          "shell.execute_reply.started": "2025-03-20T08:52:23.990086Z",
          "shell.execute_reply": "2025-03-20T08:52:23.996557Z"
        },
        "id": "zLRLOweHldY-"
      },
      "outputs": [],
      "execution_count": null
    },
    {
      "cell_type": "code",
      "source": [
        "fitted_values = X2@res2.params\n",
        "fitted_values[0:5], res2.fittedvalues[0:5]"
      ],
      "metadata": {
        "trusted": true,
        "execution": {
          "iopub.status.busy": "2025-03-20T08:52:32.77817Z",
          "iopub.execute_input": "2025-03-20T08:52:32.778595Z",
          "iopub.status.idle": "2025-03-20T08:52:32.787959Z",
          "shell.execute_reply.started": "2025-03-20T08:52:32.77856Z",
          "shell.execute_reply": "2025-03-20T08:52:32.786865Z"
        },
        "id": "F9BJxtz1ldY-"
      },
      "outputs": [],
      "execution_count": null
    },
    {
      "cell_type": "markdown",
      "source": [
        "### Check linear relationship between logit and response varialbes"
      ],
      "metadata": {
        "id": "wsJp4LCGldY-"
      }
    },
    {
      "cell_type": "code",
      "source": [
        "fig, ax = plt.subplots(1,4, figsize=(12,6))\n",
        "sns.regplot(x=X2.sunshine, y=res2.fittedvalues, ax=ax[0])\n",
        "sns.regplot(x=X2.cloud, y=res2.fittedvalues, ax = ax[1])\n",
        "#sns.regplot(x=X1.humidity, y=res.fittedvalues, ax= ax[2])\n",
        "#sns.regplot(x=X2.dewpoint_temperature, y=res2.fittedvalues, ax= ax[3]) # this is not linear!!!\n",
        "\n",
        "plt.tight_layout()\n",
        "plt.show()"
      ],
      "metadata": {
        "trusted": true,
        "execution": {
          "iopub.status.busy": "2025-03-20T08:52:55.634419Z",
          "iopub.execute_input": "2025-03-20T08:52:55.634776Z",
          "iopub.status.idle": "2025-03-20T08:52:56.720749Z",
          "shell.execute_reply.started": "2025-03-20T08:52:55.63475Z",
          "shell.execute_reply": "2025-03-20T08:52:56.719475Z"
        },
        "id": "owjEF_OqldY_"
      },
      "outputs": [],
      "execution_count": null
    },
    {
      "cell_type": "markdown",
      "source": [
        "## Logistic Regression with L1 penalty"
      ],
      "metadata": {
        "id": "TDbmDlOLldY_"
      }
    },
    {
      "cell_type": "code",
      "source": [
        "from sklearn.linear_model import LogisticRegression"
      ],
      "metadata": {
        "trusted": true,
        "execution": {
          "iopub.status.busy": "2025-03-20T08:53:54.122039Z",
          "iopub.execute_input": "2025-03-20T08:53:54.1225Z",
          "iopub.status.idle": "2025-03-20T08:53:54.126852Z",
          "shell.execute_reply.started": "2025-03-20T08:53:54.122465Z",
          "shell.execute_reply": "2025-03-20T08:53:54.125829Z"
        },
        "id": "Qx-WE7iqldY_"
      },
      "outputs": [],
      "execution_count": null
    },
    {
      "cell_type": "code",
      "source": [
        "features = [\"cloud\", \"sunshine\", \"day_encoded\", \"dewpoint_temperature\", \"humidity\"]"
      ],
      "metadata": {
        "trusted": true,
        "execution": {
          "iopub.status.busy": "2025-03-20T09:23:05.613797Z",
          "iopub.execute_input": "2025-03-20T09:23:05.614148Z",
          "iopub.status.idle": "2025-03-20T09:23:05.618534Z",
          "shell.execute_reply.started": "2025-03-20T09:23:05.614116Z",
          "shell.execute_reply": "2025-03-20T09:23:05.617275Z"
        },
        "id": "E2C2751rldZA"
      },
      "outputs": [],
      "execution_count": null
    },
    {
      "cell_type": "code",
      "source": [
        "lr = LogisticRegression(penalty = 'l1', max_iter=5000, solver=\"liblinear\",random_state=0)\n",
        "clf = lr.fit(tr_x[features], tr_y)"
      ],
      "metadata": {
        "trusted": true,
        "execution": {
          "iopub.status.busy": "2025-03-20T09:23:12.073418Z",
          "iopub.execute_input": "2025-03-20T09:23:12.073783Z",
          "iopub.status.idle": "2025-03-20T09:23:12.107766Z",
          "shell.execute_reply.started": "2025-03-20T09:23:12.073753Z",
          "shell.execute_reply": "2025-03-20T09:23:12.106582Z"
        },
        "id": "esvj5gDnldZA"
      },
      "outputs": [],
      "execution_count": null
    },
    {
      "cell_type": "code",
      "source": [
        "pd.DataFrame(clf.coef_, columns = features)"
      ],
      "metadata": {
        "trusted": true,
        "execution": {
          "iopub.status.busy": "2025-03-20T09:23:43.716946Z",
          "iopub.execute_input": "2025-03-20T09:23:43.717272Z",
          "iopub.status.idle": "2025-03-20T09:23:43.728681Z",
          "shell.execute_reply.started": "2025-03-20T09:23:43.717244Z",
          "shell.execute_reply": "2025-03-20T09:23:43.727579Z"
        },
        "id": "L5SFQo69ldZA"
      },
      "outputs": [],
      "execution_count": null
    },
    {
      "cell_type": "code",
      "source": [
        "pd.Series([clf.score(tr_x[features], tr_y)], name = \"mean accuracy\", index=[\"clf\"])"
      ],
      "metadata": {
        "trusted": true,
        "execution": {
          "iopub.status.busy": "2025-03-20T09:23:21.188893Z",
          "iopub.execute_input": "2025-03-20T09:23:21.18921Z",
          "iopub.status.idle": "2025-03-20T09:23:21.200938Z",
          "shell.execute_reply.started": "2025-03-20T09:23:21.189184Z",
          "shell.execute_reply": "2025-03-20T09:23:21.199776Z"
        },
        "id": "hCcv_hvmldZB"
      },
      "outputs": [],
      "execution_count": null
    },
    {
      "cell_type": "code",
      "source": [
        "y_pred = clf.predict(vl_x[features])\n",
        "metrics.roc_auc_score(y_pred, vl_y)"
      ],
      "metadata": {
        "trusted": true,
        "execution": {
          "iopub.status.busy": "2025-03-20T09:23:25.086719Z",
          "iopub.execute_input": "2025-03-20T09:23:25.087049Z",
          "iopub.status.idle": "2025-03-20T09:23:25.099661Z",
          "shell.execute_reply.started": "2025-03-20T09:23:25.087022Z",
          "shell.execute_reply": "2025-03-20T09:23:25.098396Z"
        },
        "id": "RZZFjtzqldZB"
      },
      "outputs": [],
      "execution_count": null
    },
    {
      "cell_type": "code",
      "source": [
        "metrics.RocCurveDisplay.from_estimator(clf, vl_x[features], vl_y)"
      ],
      "metadata": {
        "trusted": true,
        "execution": {
          "iopub.status.busy": "2025-03-20T09:23:27.469384Z",
          "iopub.execute_input": "2025-03-20T09:23:27.46976Z",
          "iopub.status.idle": "2025-03-20T09:23:27.683512Z",
          "shell.execute_reply.started": "2025-03-20T09:23:27.469729Z",
          "shell.execute_reply": "2025-03-20T09:23:27.682477Z"
        },
        "id": "wrJ2Rk3PldZC"
      },
      "outputs": [],
      "execution_count": null
    },
    {
      "cell_type": "code",
      "source": [
        "clf_conf_m = metrics.confusion_matrix(vl_y, y_pred, labels=clf.classes_)\n",
        "disp = metrics.ConfusionMatrixDisplay(clf_conf_m, display_labels = clf.classes_)\n",
        "disp.plot(values_format='')"
      ],
      "metadata": {
        "trusted": true,
        "execution": {
          "iopub.status.busy": "2025-03-20T09:23:31.971214Z",
          "iopub.execute_input": "2025-03-20T09:23:31.971593Z",
          "iopub.status.idle": "2025-03-20T09:23:32.205918Z",
          "shell.execute_reply.started": "2025-03-20T09:23:31.971542Z",
          "shell.execute_reply": "2025-03-20T09:23:32.204974Z"
        },
        "id": "myZpn0sdldZC"
      },
      "outputs": [],
      "execution_count": null
    },
    {
      "cell_type": "markdown",
      "source": [
        "## Logistic Regression with L1 and GridSearch Cross Validation"
      ],
      "metadata": {
        "id": "MS26rkyKldZD"
      }
    },
    {
      "cell_type": "code",
      "source": [
        "clf2 = LogisticRegression(penalty='l1', solver='liblinear', max_iter=2000,  random_state = 0)\n",
        "scoring = scoring = ['accuracy', 'precision', 'recall', 'f1', 'roc_auc']\n",
        "\n",
        "x_tr_scaled = tr_x.copy()\n",
        "x_tr_scaled = (x_tr_scaled - x_tr_scaled.mean(axis = 0)) / x_tr_scaled.std(axis = 0) # StandardScaler().fit_trasnform(x_scaled)\n",
        "\n",
        "clf2_cv = GridSearchCV(clf2, param_grid={'C': [0.001, 0.01, 0.1, 1, 10, 100, 1000]}, scoring=scoring, cv=5, refit=\"roc_auc\")\n",
        "clf2_cv.fit(x_tr_scaled, tr_y)"
      ],
      "metadata": {
        "trusted": true,
        "execution": {
          "iopub.status.busy": "2025-03-20T10:02:27.597621Z",
          "iopub.execute_input": "2025-03-20T10:02:27.597998Z",
          "iopub.status.idle": "2025-03-20T10:02:29.19565Z",
          "shell.execute_reply.started": "2025-03-20T10:02:27.597968Z",
          "shell.execute_reply": "2025-03-20T10:02:29.194202Z"
        },
        "id": "1vn61RebldZD"
      },
      "outputs": [],
      "execution_count": null
    },
    {
      "cell_type": "code",
      "source": [
        "clf2_cv.best_score_"
      ],
      "metadata": {
        "trusted": true,
        "execution": {
          "iopub.status.busy": "2025-03-20T10:02:31.887835Z",
          "iopub.execute_input": "2025-03-20T10:02:31.888222Z",
          "iopub.status.idle": "2025-03-20T10:02:31.894079Z",
          "shell.execute_reply.started": "2025-03-20T10:02:31.888178Z",
          "shell.execute_reply": "2025-03-20T10:02:31.892812Z"
        },
        "id": "tCzw7vq4ldZE"
      },
      "outputs": [],
      "execution_count": null
    },
    {
      "cell_type": "code",
      "source": [
        "pd.DataFrame(clf2_cv.best_estimator_.coef_[0], clf2_cv.feature_names_in_, columns=[\"coef\"])"
      ],
      "metadata": {
        "trusted": true,
        "execution": {
          "iopub.status.busy": "2025-03-20T10:02:34.221928Z",
          "iopub.execute_input": "2025-03-20T10:02:34.222295Z",
          "iopub.status.idle": "2025-03-20T10:02:34.232933Z",
          "shell.execute_reply.started": "2025-03-20T10:02:34.222261Z",
          "shell.execute_reply": "2025-03-20T10:02:34.231631Z"
        },
        "id": "ZrAbvowwldZE"
      },
      "outputs": [],
      "execution_count": null
    },
    {
      "cell_type": "code",
      "source": [
        "make_results('logistic regression cv', clf2_cv, 'auc')"
      ],
      "metadata": {
        "trusted": true,
        "execution": {
          "iopub.status.busy": "2025-03-20T10:03:01.851429Z",
          "iopub.execute_input": "2025-03-20T10:03:01.851795Z",
          "iopub.status.idle": "2025-03-20T10:03:01.86772Z",
          "shell.execute_reply.started": "2025-03-20T10:03:01.851765Z",
          "shell.execute_reply": "2025-03-20T10:03:01.8667Z"
        },
        "id": "lgMO-FIpldZE"
      },
      "outputs": [],
      "execution_count": null
    },
    {
      "cell_type": "code",
      "source": [
        "x_vl_scaled = vl_x.copy()\n",
        "x_vl_scaled = (x_vl_scaled - x_vl_scaled.mean(axis = 0)) / x_vl_scaled.std(axis = 0) # StandardScaler().fit_trasnform(x_scaled)\n",
        "get_scores('logistic_regression validation scores', clf2_cv, x_vl_scaled, vl_y)"
      ],
      "metadata": {
        "trusted": true,
        "execution": {
          "iopub.status.busy": "2025-03-20T10:27:41.673139Z",
          "iopub.execute_input": "2025-03-20T10:27:41.673584Z",
          "iopub.status.idle": "2025-03-20T10:27:41.704644Z",
          "shell.execute_reply.started": "2025-03-20T10:27:41.673547Z",
          "shell.execute_reply": "2025-03-20T10:27:41.703645Z"
        },
        "id": "-wGxm3EzldZE"
      },
      "outputs": [],
      "execution_count": null
    },
    {
      "cell_type": "code",
      "source": [
        "metrics.RocCurveDisplay.from_estimator(clf2_cv.best_estimator_, x_vl_scaled, vl_y)"
      ],
      "metadata": {
        "trusted": true,
        "execution": {
          "iopub.status.busy": "2025-03-20T10:03:29.484219Z",
          "iopub.execute_input": "2025-03-20T10:03:29.484622Z",
          "iopub.status.idle": "2025-03-20T10:03:29.695027Z",
          "shell.execute_reply.started": "2025-03-20T10:03:29.484588Z",
          "shell.execute_reply": "2025-03-20T10:03:29.694077Z"
        },
        "id": "n1LsrUmmldZE"
      },
      "outputs": [],
      "execution_count": null
    },
    {
      "cell_type": "code",
      "source": [
        "lr_conf_m = metrics.confusion_matrix(vl_y, clf2_cv.best_estimator_.predict(x_vl_scaled), labels = clf2_cv.best_estimator_.classes_)\n",
        "disp = metrics.ConfusionMatrixDisplay(lr_conf_m, display_labels = clf2_cv.best_estimator_.classes_)\n",
        "disp.plot(values_format='')"
      ],
      "metadata": {
        "trusted": true,
        "execution": {
          "iopub.status.busy": "2025-03-20T10:03:33.103705Z",
          "iopub.execute_input": "2025-03-20T10:03:33.104041Z",
          "iopub.status.idle": "2025-03-20T10:03:33.328809Z",
          "shell.execute_reply.started": "2025-03-20T10:03:33.104014Z",
          "shell.execute_reply": "2025-03-20T10:03:33.327785Z"
        },
        "id": "rSNZNitMldZF"
      },
      "outputs": [],
      "execution_count": null
    },
    {
      "cell_type": "code",
      "source": [
        "FPR = 17/(74+17)\n",
        "TPR = 313/(313+17)\n",
        "TPR,FPR"
      ],
      "metadata": {
        "trusted": true,
        "execution": {
          "iopub.status.busy": "2025-03-20T09:59:11.994306Z",
          "iopub.execute_input": "2025-03-20T09:59:11.994775Z",
          "iopub.status.idle": "2025-03-20T09:59:12.000997Z",
          "shell.execute_reply.started": "2025-03-20T09:59:11.994745Z",
          "shell.execute_reply": "2025-03-20T09:59:12.000071Z"
        },
        "id": "-Rq2B1yaldZF"
      },
      "outputs": [],
      "execution_count": null
    },
    {
      "cell_type": "code",
      "source": [
        "target_names = ['Predicted would not rain', 'Predicted would rain']\n",
        "print(metrics.classification_report(vl_y, clf2_cv.best_estimator_.predict(x_vl_scaled), target_names=target_names))"
      ],
      "metadata": {
        "trusted": true,
        "execution": {
          "iopub.status.busy": "2025-03-20T10:10:40.012044Z",
          "iopub.execute_input": "2025-03-20T10:10:40.012476Z",
          "iopub.status.idle": "2025-03-20T10:10:40.032825Z",
          "shell.execute_reply.started": "2025-03-20T10:10:40.012437Z",
          "shell.execute_reply": "2025-03-20T10:10:40.031385Z"
        },
        "id": "HhUm7mARldZF"
      },
      "outputs": [],
      "execution_count": null
    },
    {
      "cell_type": "markdown",
      "source": [
        "# Tree Methods"
      ],
      "metadata": {
        "id": "AQA7oyRYldZF"
      }
    },
    {
      "cell_type": "code",
      "source": [
        "df_train, df_test = load_data()\n",
        "X_train = create_features(df_train)\n",
        "y_train = df_train.loc[:, \"rainfall\"]"
      ],
      "metadata": {
        "trusted": true,
        "execution": {
          "iopub.status.busy": "2025-03-20T10:16:28.790844Z",
          "iopub.execute_input": "2025-03-20T10:16:28.791167Z",
          "iopub.status.idle": "2025-03-20T10:16:29.503426Z",
          "shell.execute_reply.started": "2025-03-20T10:16:28.791141Z",
          "shell.execute_reply": "2025-03-20T10:16:29.502188Z"
        },
        "id": "B8jIwsWVldZG"
      },
      "outputs": [],
      "execution_count": null
    },
    {
      "cell_type": "code",
      "source": [
        "tr_x, vl_x, tr_y, vl_y = train_test_split(X_train, y_train, test_size=0.25, stratify=y_train, random_state=0)"
      ],
      "metadata": {
        "trusted": true,
        "execution": {
          "iopub.status.busy": "2025-03-20T10:16:36.658327Z",
          "iopub.execute_input": "2025-03-20T10:16:36.658751Z",
          "iopub.status.idle": "2025-03-20T10:16:36.667684Z",
          "shell.execute_reply.started": "2025-03-20T10:16:36.65872Z",
          "shell.execute_reply": "2025-03-20T10:16:36.666667Z"
        },
        "id": "XB3fFxX9ldZG"
      },
      "outputs": [],
      "execution_count": null
    },
    {
      "cell_type": "code",
      "source": [
        "tr_x.head()"
      ],
      "metadata": {
        "trusted": true,
        "execution": {
          "iopub.status.busy": "2025-03-20T10:17:05.365103Z",
          "iopub.execute_input": "2025-03-20T10:17:05.365472Z",
          "iopub.status.idle": "2025-03-20T10:17:05.386976Z",
          "shell.execute_reply.started": "2025-03-20T10:17:05.36544Z",
          "shell.execute_reply": "2025-03-20T10:17:05.385852Z"
        },
        "id": "x2NjH21xldZG"
      },
      "outputs": [],
      "execution_count": null
    },
    {
      "cell_type": "markdown",
      "source": [
        "## Decision Tree"
      ],
      "metadata": {
        "id": "qCfEbwp-ldZH"
      }
    },
    {
      "cell_type": "code",
      "source": [
        "from sklearn.tree import DecisionTreeClassifier"
      ],
      "metadata": {
        "trusted": true,
        "execution": {
          "iopub.status.busy": "2025-03-20T10:18:14.516113Z",
          "iopub.execute_input": "2025-03-20T10:18:14.516513Z",
          "iopub.status.idle": "2025-03-20T10:18:14.521145Z",
          "shell.execute_reply.started": "2025-03-20T10:18:14.516481Z",
          "shell.execute_reply": "2025-03-20T10:18:14.519775Z"
        },
        "id": "8LeXYQSEldZH"
      },
      "outputs": [],
      "execution_count": null
    },
    {
      "cell_type": "code",
      "source": [
        "tree1 = DecisionTreeClassifier(random_state=0)\n",
        "cv_params = {'max_depth':[4, 6, 8, 12, None],\n",
        "             'min_samples_leaf': [2, 5, 6],\n",
        "             'min_samples_split': [2, 4, 6]\n",
        "             }\n",
        "scoring = scoring = ['accuracy', 'precision', 'recall', 'f1', 'roc_auc']\n",
        "cv1 = GridSearchCV(tree1, cv_params, scoring=scoring, refit='roc_auc', cv=5)"
      ],
      "metadata": {
        "trusted": true,
        "execution": {
          "iopub.status.busy": "2025-03-20T10:18:59.606156Z",
          "iopub.execute_input": "2025-03-20T10:18:59.6066Z",
          "iopub.status.idle": "2025-03-20T10:18:59.61243Z",
          "shell.execute_reply.started": "2025-03-20T10:18:59.606562Z",
          "shell.execute_reply": "2025-03-20T10:18:59.611456Z"
        },
        "id": "YYhByYwwldZH"
      },
      "outputs": [],
      "execution_count": null
    },
    {
      "cell_type": "code",
      "source": [
        "cv1.fit(tr_x, tr_y)"
      ],
      "metadata": {
        "trusted": true,
        "execution": {
          "iopub.status.busy": "2025-03-20T10:19:23.311131Z",
          "iopub.execute_input": "2025-03-20T10:19:23.311566Z",
          "iopub.status.idle": "2025-03-20T10:19:28.976252Z",
          "shell.execute_reply.started": "2025-03-20T10:19:23.31153Z",
          "shell.execute_reply": "2025-03-20T10:19:28.975171Z"
        },
        "id": "F_59FFcGldZI"
      },
      "outputs": [],
      "execution_count": null
    },
    {
      "cell_type": "code",
      "source": [
        "cv1.best_score_"
      ],
      "metadata": {
        "trusted": true,
        "execution": {
          "iopub.status.busy": "2025-03-20T10:19:44.969487Z",
          "iopub.execute_input": "2025-03-20T10:19:44.969869Z",
          "iopub.status.idle": "2025-03-20T10:19:44.975811Z",
          "shell.execute_reply.started": "2025-03-20T10:19:44.96984Z",
          "shell.execute_reply": "2025-03-20T10:19:44.974939Z"
        },
        "id": "STomuwkkldZI"
      },
      "outputs": [],
      "execution_count": null
    },
    {
      "cell_type": "code",
      "source": [
        "make_results('decision tree fit', cv1, 'auc')"
      ],
      "metadata": {
        "trusted": true,
        "execution": {
          "iopub.status.busy": "2025-03-20T10:21:44.8576Z",
          "iopub.execute_input": "2025-03-20T10:21:44.857955Z",
          "iopub.status.idle": "2025-03-20T10:21:44.873387Z",
          "shell.execute_reply.started": "2025-03-20T10:21:44.857925Z",
          "shell.execute_reply": "2025-03-20T10:21:44.872052Z"
        },
        "id": "XkpsPnwuldZJ"
      },
      "outputs": [],
      "execution_count": null
    },
    {
      "cell_type": "code",
      "source": [
        "pd.DataFrame(cv1.best_estimator_.feature_importances_, cv1.best_estimator_.feature_names_in_, columns=[\"importance\"]).sort_values(by=\"importance\", ascending = False)"
      ],
      "metadata": {
        "trusted": true,
        "execution": {
          "iopub.status.busy": "2025-03-20T10:47:58.541779Z",
          "iopub.execute_input": "2025-03-20T10:47:58.542133Z",
          "iopub.status.idle": "2025-03-20T10:47:58.55348Z",
          "shell.execute_reply.started": "2025-03-20T10:47:58.5421Z",
          "shell.execute_reply": "2025-03-20T10:47:58.552085Z"
        },
        "id": "x_gPwrMCldZJ"
      },
      "outputs": [],
      "execution_count": null
    },
    {
      "cell_type": "code",
      "source": [
        "get_scores('decision tree validation scores', cv1, vl_x, vl_y)"
      ],
      "metadata": {
        "trusted": true,
        "execution": {
          "iopub.status.busy": "2025-03-20T10:28:29.960289Z",
          "iopub.execute_input": "2025-03-20T10:28:29.960723Z",
          "iopub.status.idle": "2025-03-20T10:28:29.987665Z",
          "shell.execute_reply.started": "2025-03-20T10:28:29.960692Z",
          "shell.execute_reply": "2025-03-20T10:28:29.986691Z"
        },
        "id": "5MfrjlSjldZK"
      },
      "outputs": [],
      "execution_count": null
    },
    {
      "cell_type": "code",
      "source": [
        "metrics.RocCurveDisplay.from_estimator(cv1.best_estimator_,vl_x, vl_y)"
      ],
      "metadata": {
        "trusted": true,
        "execution": {
          "iopub.status.busy": "2025-03-20T10:31:16.643576Z",
          "iopub.execute_input": "2025-03-20T10:31:16.643928Z",
          "iopub.status.idle": "2025-03-20T10:31:16.855112Z",
          "shell.execute_reply.started": "2025-03-20T10:31:16.643886Z",
          "shell.execute_reply": "2025-03-20T10:31:16.854084Z"
        },
        "id": "__HKmkS1ldZL"
      },
      "outputs": [],
      "execution_count": null
    },
    {
      "cell_type": "code",
      "source": [
        "cv1_conf_m = metrics.confusion_matrix(vl_y, cv1.best_estimator_.predict(vl_x), labels = cv1.best_estimator_.classes_)\n",
        "disp = metrics.ConfusionMatrixDisplay(cv1_conf_m, display_labels = cv1.best_estimator_.classes_)\n",
        "disp.plot(values_format='')"
      ],
      "metadata": {
        "trusted": true,
        "execution": {
          "iopub.status.busy": "2025-03-20T10:33:57.281973Z",
          "iopub.execute_input": "2025-03-20T10:33:57.282291Z",
          "iopub.status.idle": "2025-03-20T10:33:57.520875Z",
          "shell.execute_reply.started": "2025-03-20T10:33:57.282264Z",
          "shell.execute_reply": "2025-03-20T10:33:57.519666Z"
        },
        "id": "iekNuGi0ldZL"
      },
      "outputs": [],
      "execution_count": null
    },
    {
      "cell_type": "markdown",
      "source": [
        "## Random Forest"
      ],
      "metadata": {
        "id": "p6jxFixZldZL"
      }
    },
    {
      "cell_type": "code",
      "source": [
        "from sklearn.ensemble import RandomForestClassifier"
      ],
      "metadata": {
        "trusted": true,
        "execution": {
          "iopub.status.busy": "2025-03-20T10:35:28.530542Z",
          "iopub.execute_input": "2025-03-20T10:35:28.530904Z",
          "iopub.status.idle": "2025-03-20T10:35:28.710395Z",
          "shell.execute_reply.started": "2025-03-20T10:35:28.530877Z",
          "shell.execute_reply": "2025-03-20T10:35:28.709457Z"
        },
        "id": "OA3_N37QldZM"
      },
      "outputs": [],
      "execution_count": null
    },
    {
      "cell_type": "code",
      "source": [
        "rf1 = RandomForestClassifier(random_state=0)\n",
        "cv_params = {'max_depth': [3,5, None],\n",
        "             'max_features': [1.0],\n",
        "             'max_samples': [0.7, 1.0],\n",
        "             'min_samples_leaf': [1,2,3],\n",
        "             'min_samples_split': [2,3,4],\n",
        "             'n_estimators': [300, 500],\n",
        "             }\n",
        "cv2 = GridSearchCV(rf1, cv_params, scoring=scoring, refit='roc_auc', cv=5, n_jobs=-1)"
      ],
      "metadata": {
        "trusted": true,
        "execution": {
          "iopub.status.busy": "2025-03-20T10:36:37.884993Z",
          "iopub.execute_input": "2025-03-20T10:36:37.885347Z",
          "iopub.status.idle": "2025-03-20T10:36:37.892559Z",
          "shell.execute_reply.started": "2025-03-20T10:36:37.885319Z",
          "shell.execute_reply": "2025-03-20T10:36:37.891292Z"
        },
        "id": "Ms6mavLeldZM"
      },
      "outputs": [],
      "execution_count": null
    },
    {
      "cell_type": "code",
      "source": [
        "cv2.fit(tr_x, tr_y)"
      ],
      "metadata": {
        "trusted": true,
        "execution": {
          "iopub.status.busy": "2025-03-20T10:36:40.631123Z",
          "iopub.execute_input": "2025-03-20T10:36:40.631502Z",
          "iopub.status.idle": "2025-03-20T10:46:23.653328Z",
          "shell.execute_reply.started": "2025-03-20T10:36:40.63147Z",
          "shell.execute_reply": "2025-03-20T10:46:23.652098Z"
        },
        "id": "YEDd5keIldZM"
      },
      "outputs": [],
      "execution_count": null
    },
    {
      "cell_type": "code",
      "source": [
        "cv2.best_estimator_, cv2.best_score_"
      ],
      "metadata": {
        "trusted": true,
        "execution": {
          "iopub.status.busy": "2025-03-20T10:46:53.739584Z",
          "iopub.execute_input": "2025-03-20T10:46:53.739985Z",
          "iopub.status.idle": "2025-03-20T10:46:53.747767Z",
          "shell.execute_reply.started": "2025-03-20T10:46:53.739948Z",
          "shell.execute_reply": "2025-03-20T10:46:53.746692Z"
        },
        "id": "V6XkBUzOldZM"
      },
      "outputs": [],
      "execution_count": null
    },
    {
      "cell_type": "code",
      "source": [
        "pd.DataFrame(cv2.best_estimator_.feature_importances_, cv2.best_estimator_.feature_names_in_, columns=[\"importance\"]).sort_values(by=\"importance\", ascending=False)"
      ],
      "metadata": {
        "trusted": true,
        "execution": {
          "iopub.status.busy": "2025-03-20T10:47:11.414587Z",
          "iopub.execute_input": "2025-03-20T10:47:11.414968Z",
          "iopub.status.idle": "2025-03-20T10:47:11.448214Z",
          "shell.execute_reply.started": "2025-03-20T10:47:11.414936Z",
          "shell.execute_reply": "2025-03-20T10:47:11.447214Z"
        },
        "id": "oxA8j8YUldZN"
      },
      "outputs": [],
      "execution_count": null
    },
    {
      "cell_type": "code",
      "source": [
        "make_results('random forest fit', cv2, \"auc\")"
      ],
      "metadata": {
        "trusted": true,
        "execution": {
          "iopub.status.busy": "2025-03-20T10:49:08.970169Z",
          "iopub.execute_input": "2025-03-20T10:49:08.970561Z",
          "iopub.status.idle": "2025-03-20T10:49:08.986945Z",
          "shell.execute_reply.started": "2025-03-20T10:49:08.970528Z",
          "shell.execute_reply": "2025-03-20T10:49:08.985419Z"
        },
        "id": "m6xEhIWildZN"
      },
      "outputs": [],
      "execution_count": null
    },
    {
      "cell_type": "code",
      "source": [
        "get_scores(\"random forest validation scores\", cv2, vl_x, vl_y)"
      ],
      "metadata": {
        "trusted": true,
        "execution": {
          "iopub.status.busy": "2025-03-20T10:49:37.485009Z",
          "iopub.execute_input": "2025-03-20T10:49:37.485434Z",
          "iopub.status.idle": "2025-03-20T10:49:37.558849Z",
          "shell.execute_reply.started": "2025-03-20T10:49:37.485309Z",
          "shell.execute_reply": "2025-03-20T10:49:37.557786Z"
        },
        "id": "jzYps7lHldZN"
      },
      "outputs": [],
      "execution_count": null
    },
    {
      "cell_type": "code",
      "source": [
        "metrics.RocCurveDisplay.from_estimator(cv2.best_estimator_, vl_x, vl_y)"
      ],
      "metadata": {
        "trusted": true,
        "execution": {
          "iopub.status.busy": "2025-03-20T10:51:10.640046Z",
          "iopub.execute_input": "2025-03-20T10:51:10.640445Z",
          "iopub.status.idle": "2025-03-20T10:51:10.877784Z",
          "shell.execute_reply.started": "2025-03-20T10:51:10.64041Z",
          "shell.execute_reply": "2025-03-20T10:51:10.876742Z"
        },
        "id": "XMSjwV1JldZN"
      },
      "outputs": [],
      "execution_count": null
    },
    {
      "cell_type": "code",
      "source": [
        "cv2_conf_m = metrics.confusion_matrix(vl_y, cv2.best_estimator_.predict(vl_x), labels = cv2.best_estimator_.classes_)\n",
        "disp = metrics.ConfusionMatrixDisplay(cv2_conf_m, display_labels = cv2.best_estimator_.classes_)\n",
        "disp.plot(values_format = '')"
      ],
      "metadata": {
        "trusted": true,
        "execution": {
          "iopub.status.busy": "2025-03-20T10:55:16.26903Z",
          "iopub.execute_input": "2025-03-20T10:55:16.26949Z",
          "iopub.status.idle": "2025-03-20T10:55:16.527952Z",
          "shell.execute_reply.started": "2025-03-20T10:55:16.269455Z",
          "shell.execute_reply": "2025-03-20T10:55:16.526872Z"
        },
        "id": "67m6V5JlldZN"
      },
      "outputs": [],
      "execution_count": null
    },
    {
      "cell_type": "markdown",
      "source": [
        "## XGBoost Method"
      ],
      "metadata": {
        "id": "YadG2bjPldZO"
      }
    },
    {
      "cell_type": "code",
      "source": [
        "from xgboost import XGBClassifier, plot_importance"
      ],
      "metadata": {
        "trusted": true,
        "execution": {
          "iopub.status.busy": "2025-03-20T10:56:48.635252Z",
          "iopub.execute_input": "2025-03-20T10:56:48.635727Z",
          "iopub.status.idle": "2025-03-20T10:56:48.948965Z",
          "shell.execute_reply.started": "2025-03-20T10:56:48.635692Z",
          "shell.execute_reply": "2025-03-20T10:56:48.94791Z"
        },
        "id": "Ep6g3ivQldZO"
      },
      "outputs": [],
      "execution_count": null
    },
    {
      "cell_type": "code",
      "source": [
        "xgb = XGBClassifier(random_state=0, objective='binary:logistic')"
      ],
      "metadata": {
        "trusted": true,
        "execution": {
          "iopub.status.busy": "2025-03-20T10:57:02.428131Z",
          "iopub.execute_input": "2025-03-20T10:57:02.428553Z",
          "iopub.status.idle": "2025-03-20T10:57:02.433766Z",
          "shell.execute_reply.started": "2025-03-20T10:57:02.428516Z",
          "shell.execute_reply": "2025-03-20T10:57:02.432507Z"
        },
        "id": "4xlaMdbgldZO"
      },
      "outputs": [],
      "execution_count": null
    },
    {
      "cell_type": "code",
      "source": [
        "cv_params = {\n",
        "    'max_depth': [1,2,4],\n",
        "    'min_child_weight': [3],\n",
        "    'learning_rate': [0.01],\n",
        "    'n_estimators': [500],\n",
        "    'subsample': [0.7],\n",
        "    'colsample_bytree': [0.7]\n",
        "}\n",
        "cv3 = GridSearchCV(xgb, cv_params, scoring=scoring, refit='roc_auc', cv=5)"
      ],
      "metadata": {
        "trusted": true,
        "execution": {
          "iopub.status.busy": "2025-03-20T10:57:13.429753Z",
          "iopub.execute_input": "2025-03-20T10:57:13.430114Z",
          "iopub.status.idle": "2025-03-20T10:57:13.43525Z",
          "shell.execute_reply.started": "2025-03-20T10:57:13.430083Z",
          "shell.execute_reply": "2025-03-20T10:57:13.43395Z"
        },
        "id": "yiHjwWBeldZO"
      },
      "outputs": [],
      "execution_count": null
    },
    {
      "cell_type": "code",
      "source": [
        "xgb_cv = cv3.fit(tr_x, tr_y)"
      ],
      "metadata": {
        "trusted": true,
        "execution": {
          "iopub.status.busy": "2025-03-20T10:57:24.341177Z",
          "iopub.execute_input": "2025-03-20T10:57:24.341559Z",
          "iopub.status.idle": "2025-03-20T10:57:28.329928Z",
          "shell.execute_reply.started": "2025-03-20T10:57:24.341527Z",
          "shell.execute_reply": "2025-03-20T10:57:28.328808Z"
        },
        "id": "X8DLLLrIldZP"
      },
      "outputs": [],
      "execution_count": null
    },
    {
      "cell_type": "code",
      "source": [
        "xgb_cv.best_estimator_, xgb_cv.best_score_"
      ],
      "metadata": {
        "trusted": true,
        "execution": {
          "iopub.status.busy": "2025-03-20T10:57:40.147076Z",
          "iopub.execute_input": "2025-03-20T10:57:40.147462Z",
          "iopub.status.idle": "2025-03-20T10:57:40.15459Z",
          "shell.execute_reply.started": "2025-03-20T10:57:40.147428Z",
          "shell.execute_reply": "2025-03-20T10:57:40.153557Z"
        },
        "id": "aIpjh3Y0ldZP"
      },
      "outputs": [],
      "execution_count": null
    },
    {
      "cell_type": "code",
      "source": [
        "make_results('xgboost fit', xgb_cv, 'auc')"
      ],
      "metadata": {
        "trusted": true,
        "execution": {
          "iopub.status.busy": "2025-03-20T10:57:54.570881Z",
          "iopub.execute_input": "2025-03-20T10:57:54.571238Z",
          "iopub.status.idle": "2025-03-20T10:57:54.587835Z",
          "shell.execute_reply.started": "2025-03-20T10:57:54.571209Z",
          "shell.execute_reply": "2025-03-20T10:57:54.58675Z"
        },
        "id": "WcFSfuYYldZP"
      },
      "outputs": [],
      "execution_count": null
    },
    {
      "cell_type": "code",
      "source": [
        "pd.DataFrame(xgb_cv.best_estimator_.feature_importances_, xgb_cv.best_estimator_.feature_names_in_, columns=[\"importance\"]).sort_values(by=\"importance\", ascending=False)"
      ],
      "metadata": {
        "trusted": true,
        "execution": {
          "iopub.status.busy": "2025-03-20T10:58:06.057819Z",
          "iopub.execute_input": "2025-03-20T10:58:06.058243Z",
          "iopub.status.idle": "2025-03-20T10:58:06.071039Z",
          "shell.execute_reply.started": "2025-03-20T10:58:06.058208Z",
          "shell.execute_reply": "2025-03-20T10:58:06.070007Z"
        },
        "id": "2i2G-riMldZQ"
      },
      "outputs": [],
      "execution_count": null
    },
    {
      "cell_type": "code",
      "source": [
        "get_scores('xgboost validation scores', xgb_cv, vl_x, vl_y)"
      ],
      "metadata": {
        "trusted": true,
        "execution": {
          "iopub.status.busy": "2025-03-20T10:59:22.48716Z",
          "iopub.execute_input": "2025-03-20T10:59:22.487592Z",
          "iopub.status.idle": "2025-03-20T10:59:22.520804Z",
          "shell.execute_reply.started": "2025-03-20T10:59:22.487559Z",
          "shell.execute_reply": "2025-03-20T10:59:22.519828Z"
        },
        "id": "vCc3TeA9ldZQ"
      },
      "outputs": [],
      "execution_count": null
    },
    {
      "cell_type": "code",
      "source": [
        "xgb_cv_onf_m = metrics.confusion_matrix(vl_y, xgb_cv.best_estimator_.predict(vl_x), labels=xgb_cv.best_estimator_.classes_)\n",
        "disp = metrics.ConfusionMatrixDisplay(confusion_matrix=xgb_cv_onf_m, display_labels=xgb_cv.best_estimator_.classes_)\n",
        "disp.plot(values_format='')\n",
        "plt.show()"
      ],
      "metadata": {
        "trusted": true,
        "execution": {
          "iopub.status.busy": "2025-03-20T11:00:12.19528Z",
          "iopub.execute_input": "2025-03-20T11:00:12.195768Z",
          "iopub.status.idle": "2025-03-20T11:00:12.395112Z",
          "shell.execute_reply.started": "2025-03-20T11:00:12.195731Z",
          "shell.execute_reply": "2025-03-20T11:00:12.393895Z"
        },
        "id": "RWJwYXDxldZQ"
      },
      "outputs": [],
      "execution_count": null
    },
    {
      "cell_type": "code",
      "source": [
        "metrics.RocCurveDisplay.from_estimator(\n",
        "   xgb_cv.best_estimator_, vl_x, vl_y)"
      ],
      "metadata": {
        "trusted": true,
        "execution": {
          "iopub.status.busy": "2025-03-20T11:00:47.628057Z",
          "iopub.execute_input": "2025-03-20T11:00:47.628471Z",
          "iopub.status.idle": "2025-03-20T11:00:47.842029Z",
          "shell.execute_reply.started": "2025-03-20T11:00:47.628435Z",
          "shell.execute_reply": "2025-03-20T11:00:47.84099Z"
        },
        "id": "RLp-90J5ldZR"
      },
      "outputs": [],
      "execution_count": null
    },
    {
      "cell_type": "code",
      "source": [
        "plot_importance(xgb_cv.best_estimator_)"
      ],
      "metadata": {
        "trusted": true,
        "execution": {
          "iopub.status.busy": "2025-03-20T11:01:03.907593Z",
          "iopub.execute_input": "2025-03-20T11:01:03.907986Z",
          "iopub.status.idle": "2025-03-20T11:01:04.267237Z",
          "shell.execute_reply.started": "2025-03-20T11:01:03.907953Z",
          "shell.execute_reply": "2025-03-20T11:01:04.266142Z"
        },
        "id": "83NT1RdSldZR"
      },
      "outputs": [],
      "execution_count": null
    },
    {
      "cell_type": "markdown",
      "source": [
        "# Train the best estimater on the entire training set and prepare submission file"
      ],
      "metadata": {
        "id": "2Wo5A0NHldZR"
      }
    },
    {
      "cell_type": "code",
      "source": [
        "df_train, df_test = load_data()\n",
        "X_train, X_test = create_features(df_train, df_test)\n",
        "y_train = df_train.loc[:, \"rainfall\"]"
      ],
      "metadata": {
        "trusted": true,
        "execution": {
          "iopub.status.busy": "2025-03-20T11:02:36.058817Z",
          "iopub.execute_input": "2025-03-20T11:02:36.059149Z",
          "iopub.status.idle": "2025-03-20T11:02:36.824127Z",
          "shell.execute_reply.started": "2025-03-20T11:02:36.059115Z",
          "shell.execute_reply": "2025-03-20T11:02:36.822865Z"
        },
        "id": "AGc9AmS_ldZR"
      },
      "outputs": [],
      "execution_count": null
    },
    {
      "cell_type": "code",
      "source": [
        "cv_params = {\n",
        "    'max_depth': [1,2,4],\n",
        "    'min_child_weight': [3],\n",
        "    'learning_rate': [0.01],\n",
        "    'n_estimators': [500],\n",
        "    'subsample': [0.7],\n",
        "    'colsample_bytree': [0.7]\n",
        "}\n",
        "scoring = scoring = ['accuracy', 'precision', 'recall', 'f1', 'roc_auc']\n",
        "\n",
        "xgb_fin = XGBClassifier(random_state=42, objective='binary:logistic')"
      ],
      "metadata": {
        "trusted": true,
        "execution": {
          "iopub.status.busy": "2025-03-20T11:03:02.185724Z",
          "iopub.execute_input": "2025-03-20T11:03:02.186113Z",
          "iopub.status.idle": "2025-03-20T11:03:02.191936Z",
          "shell.execute_reply.started": "2025-03-20T11:03:02.186079Z",
          "shell.execute_reply": "2025-03-20T11:03:02.190613Z"
        },
        "id": "LE2UgP-cldZS"
      },
      "outputs": [],
      "execution_count": null
    },
    {
      "cell_type": "code",
      "source": [
        "cv_fin = GridSearchCV(xgb_fin, cv_params, scoring=scoring, refit='roc_auc', cv=5)"
      ],
      "metadata": {
        "trusted": true,
        "execution": {
          "iopub.status.busy": "2025-03-20T11:03:23.57422Z",
          "iopub.execute_input": "2025-03-20T11:03:23.574607Z",
          "iopub.status.idle": "2025-03-20T11:03:23.579318Z",
          "shell.execute_reply.started": "2025-03-20T11:03:23.574574Z",
          "shell.execute_reply": "2025-03-20T11:03:23.57822Z"
        },
        "id": "PDqsz-ABldZS"
      },
      "outputs": [],
      "execution_count": null
    },
    {
      "cell_type": "code",
      "source": [
        "xgb_cv_fin = cv_fin.fit(X_train, y_train)"
      ],
      "metadata": {
        "trusted": true,
        "execution": {
          "iopub.status.busy": "2025-03-20T11:04:10.129323Z",
          "iopub.execute_input": "2025-03-20T11:04:10.129797Z",
          "iopub.status.idle": "2025-03-20T11:04:14.431038Z",
          "shell.execute_reply.started": "2025-03-20T11:04:10.129767Z",
          "shell.execute_reply": "2025-03-20T11:04:14.430045Z"
        },
        "id": "E4vPKImyldZS"
      },
      "outputs": [],
      "execution_count": null
    },
    {
      "cell_type": "code",
      "source": [
        "make_results('xgboost', xgb_cv_fin, 'auc')"
      ],
      "metadata": {
        "trusted": true,
        "execution": {
          "iopub.status.busy": "2025-03-20T11:04:26.799305Z",
          "iopub.execute_input": "2025-03-20T11:04:26.799784Z",
          "iopub.status.idle": "2025-03-20T11:04:26.814983Z",
          "shell.execute_reply.started": "2025-03-20T11:04:26.799749Z",
          "shell.execute_reply": "2025-03-20T11:04:26.813809Z"
        },
        "id": "ynQgZ4M3ldZT"
      },
      "outputs": [],
      "execution_count": null
    },
    {
      "cell_type": "code",
      "source": [
        "y_pred = xgb_cv_fin.best_estimator_.predict(X_test)\n",
        "y_pred_proba = xgb_cv_fin.best_estimator_.predict_proba(X_test)[:, 1]\n",
        "submission_df = pd.DataFrame({'id': X_test.index.astype(int), 'rainfall': y_pred_proba})\n",
        "submission_df.to_csv('/kaggle/working/submission.csv', index=False)"
      ],
      "metadata": {
        "trusted": true,
        "execution": {
          "iopub.status.busy": "2025-03-20T11:06:25.313321Z",
          "iopub.execute_input": "2025-03-20T11:06:25.313794Z",
          "iopub.status.idle": "2025-03-20T11:06:25.332268Z",
          "shell.execute_reply.started": "2025-03-20T11:06:25.313762Z",
          "shell.execute_reply": "2025-03-20T11:06:25.330992Z"
        },
        "id": "Vd2Om7wxldZU"
      },
      "outputs": [],
      "execution_count": null
    }
  ]
}